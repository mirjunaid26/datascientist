{
  "nbformat": 4,
  "nbformat_minor": 0,
  "metadata": {
    "colab": {
      "name": "ConvertingTabularDatasetToGraphDataset.ipynb",
      "provenance": [],
      "collapsed_sections": [],
      "authorship_tag": "ABX9TyOsSi5dgysbd57ZvGo+g5kL",
      "include_colab_link": true
    },
    "kernelspec": {
      "name": "python3",
      "display_name": "Python 3"
    },
    "language_info": {
      "name": "python"
    }
  },
  "cells": [
    {
      "cell_type": "markdown",
      "metadata": {
        "id": "view-in-github",
        "colab_type": "text"
      },
      "source": [
        "<a href=\"https://colab.research.google.com/github/mirjunaid26/datascientist/blob/main/ConvertingTabularDatasetToGraphDataset.ipynb\" target=\"_parent\"><img src=\"https://colab.research.google.com/assets/colab-badge.svg\" alt=\"Open In Colab\"/></a>"
      ]
    },
    {
      "cell_type": "markdown",
      "source": [
        "# 1. Converting Tabular Dataset To Graph Dataset\n",
        "\n",
        "I hope this notebook helps you to convert your CSV file into a graph dataset 🚀\n"
      ],
      "metadata": {
        "id": "aBIq1AibQa9k"
      }
    },
    {
      "cell_type": "markdown",
      "source": [
        "`Step 0`\n",
        "\n",
        "Bring some creativity and don't lose hope- It is very natural that it takes some time to rearrange the data in a graph format. Also, this notebook is only to help you to get started (you will have to transfer it to your specific use-case).\n",
        "\n",
        "`Step 1`\n",
        "\n",
        "To get started, identify the following things in your dataset (I have some real-world examples below in this notebook):\n",
        "\n",
        "- Nodes (Items, People, Locations, Cars, ...)\n",
        "- Edges (Connections, Interactions, Similarity, ...)\n",
        "- Node Features (Attributes)\n",
        "- Labels (Node-level, edge-level, graph-level)\n",
        "\n",
        "and optionally:\n",
        "- Edge weights (Strength of the connection, number of interactions, ...)\n",
        "- Edge features (Additional (multi-dim) properties describing the edge)\n",
        "\n"
      ],
      "metadata": {
        "id": "mHVeAGhBQlEz"
      }
    },
    {
      "cell_type": "markdown",
      "source": [
        "`Step 2`\n",
        "\n",
        "Do you have different node and edge types? (This means the nodes/edges have different attributes such as Cars vs. People)\n",
        "\n",
        "- No, all my edges/nodes have the same type  --> **Proceed with 1.1**\n",
        "- Yes, there are different relations and node types --> **Proceed with 1.2**\n"
      ],
      "metadata": {
        "id": "i7jwlaCQQxQn"
      }
    },
    {
      "cell_type": "markdown",
      "source": [
        "## 1.1 Homogeneous"
      ],
      "metadata": {
        "id": "-7hzIJygQ4sT"
      }
    },
    {
      "cell_type": "code",
      "source": [
        ""
      ],
      "metadata": {
        "id": "0cVqWpd6Qhl0"
      },
      "execution_count": null,
      "outputs": []
    }
  ]
}