{
  "cells": [
    {
      "cell_type": "markdown",
      "metadata": {
        "id": "view-in-github",
        "colab_type": "text"
      },
      "source": [
        "<a href=\"https://colab.research.google.com/github/mirjunaid26/datascientist/blob/main/ConvertingTabularDatasetToGraphDataset.ipynb\" target=\"_parent\"><img src=\"https://colab.research.google.com/assets/colab-badge.svg\" alt=\"Open In Colab\"/></a>"
      ]
    },
    {
      "cell_type": "markdown",
      "metadata": {
        "id": "aBIq1AibQa9k"
      },
      "source": [
        "# 1. Converting Tabular Dataset To Graph Dataset\n",
        "\n",
        "I hope this notebook helps you to convert your CSV file into a graph dataset 🚀\n"
      ]
    },
    {
      "cell_type": "markdown",
      "metadata": {
        "id": "mHVeAGhBQlEz"
      },
      "source": [
        "`Step 0`\n",
        "\n",
        "Bring some creativity and don't lose hope- It is very natural that it takes some time to rearrange the data in a graph format. Also, this notebook is only to help you to get started (you will have to transfer it to your specific use-case).\n",
        "\n",
        "`Step 1`\n",
        "\n",
        "To get started, identify the following things in your dataset (I have some real-world examples below in this notebook):\n",
        "\n",
        "- Nodes (Items, People, Locations, Cars, ...)\n",
        "- Edges (Connections, Interactions, Similarity, ...)\n",
        "- Node Features (Attributes)\n",
        "- Labels (Node-level, edge-level, graph-level)\n",
        "\n",
        "and optionally:\n",
        "- Edge weights (Strength of the connection, number of interactions, ...)\n",
        "- Edge features (Additional (multi-dim) properties describing the edge)\n",
        "\n"
      ]
    },
    {
      "cell_type": "markdown",
      "metadata": {
        "id": "i7jwlaCQQxQn"
      },
      "source": [
        "`Step 2`\n",
        "\n",
        "Do you have different node and edge types? (This means the nodes/edges have different attributes such as Cars vs. People)\n",
        "\n",
        "- No, all my edges/nodes have the same type  --> **Proceed with 1.1**\n",
        "- Yes, there are different relations and node types --> **Proceed with 1.2**\n"
      ]
    },
    {
      "cell_type": "markdown",
      "metadata": {
        "id": "-7hzIJygQ4sT"
      },
      "source": [
        "## 1.1 Homogeneous"
      ]
    },
    {
      "cell_type": "markdown",
      "metadata": {
        "id": "Hc8zWDowRQLt"
      },
      "source": [
        "`Step 3 / Example 1`\n",
        "\n",
        "To make it as realistic as possible, I selected a random dataset I found on the internet that contains homogeneous nodes. This dataset is the [FIFA 21 Rating dataset](https://raw.githubusercontent.com/batuhan-demirci/fifa21_dataset), a dataset with soccer players.\n",
        "Here we extract a small subset of the scraped data (there is much more available!) to build a graph dataset out of it. Have a look at the pandas Dataframe below."
      ]
    },
    {
      "cell_type": "code",
      "execution_count": null,
      "metadata": {
        "colab": {
          "base_uri": "https://localhost:8080/",
          "height": 320
        },
        "id": "0cVqWpd6Qhl0",
        "outputId": "63fc18b8-ba49-4446-d488-05473cd48f6d"
      },
      "outputs": [
        {
          "name": "stdout",
          "output_type": "stream",
          "text": [
            "Players:  18767\n"
          ]
        },
        {
          "data": {
            "text/html": [
              "\n",
              "  <div id=\"df-4ef32b68-3349-44cb-a365-b62c8243f029\">\n",
              "    <div class=\"colab-df-container\">\n",
              "      <div>\n",
              "<style scoped>\n",
              "    .dataframe tbody tr th:only-of-type {\n",
              "        vertical-align: middle;\n",
              "    }\n",
              "\n",
              "    .dataframe tbody tr th {\n",
              "        vertical-align: top;\n",
              "    }\n",
              "\n",
              "    .dataframe thead th {\n",
              "        text-align: right;\n",
              "    }\n",
              "</style>\n",
              "<table border=\"1\" class=\"dataframe\">\n",
              "  <thead>\n",
              "    <tr style=\"text-align: right;\">\n",
              "      <th></th>\n",
              "      <th>int_player_id</th>\n",
              "      <th>str_player_name</th>\n",
              "      <th>str_positions</th>\n",
              "      <th>int_overall_rating</th>\n",
              "      <th>int_team_id</th>\n",
              "      <th>int_long_passing</th>\n",
              "      <th>int_ball_control</th>\n",
              "      <th>int_dribbling</th>\n",
              "      <th>str_team_name</th>\n",
              "      <th>int_overall</th>\n",
              "    </tr>\n",
              "  </thead>\n",
              "  <tbody>\n",
              "    <tr>\n",
              "      <th>0</th>\n",
              "      <td>1</td>\n",
              "      <td>Lionel Andrés Messi Cuccittini</td>\n",
              "      <td>RW, ST, CF</td>\n",
              "      <td>93</td>\n",
              "      <td>5.0</td>\n",
              "      <td>91</td>\n",
              "      <td>96</td>\n",
              "      <td>96</td>\n",
              "      <td>FC Barcelona</td>\n",
              "      <td>84</td>\n",
              "    </tr>\n",
              "    <tr>\n",
              "      <th>33</th>\n",
              "      <td>2</td>\n",
              "      <td>Cristiano Ronaldo dos Santos Aveiro</td>\n",
              "      <td>ST, LW</td>\n",
              "      <td>92</td>\n",
              "      <td>6.0</td>\n",
              "      <td>77</td>\n",
              "      <td>92</td>\n",
              "      <td>88</td>\n",
              "      <td>Juventus</td>\n",
              "      <td>83</td>\n",
              "    </tr>\n",
              "    <tr>\n",
              "      <th>57</th>\n",
              "      <td>3</td>\n",
              "      <td>Jan Oblak</td>\n",
              "      <td>GK</td>\n",
              "      <td>91</td>\n",
              "      <td>8.0</td>\n",
              "      <td>40</td>\n",
              "      <td>30</td>\n",
              "      <td>12</td>\n",
              "      <td>Atlético Madrid</td>\n",
              "      <td>83</td>\n",
              "    </tr>\n",
              "    <tr>\n",
              "      <th>121</th>\n",
              "      <td>5</td>\n",
              "      <td>Neymar da Silva Santos Júnior</td>\n",
              "      <td>LW, CAM</td>\n",
              "      <td>91</td>\n",
              "      <td>7.0</td>\n",
              "      <td>81</td>\n",
              "      <td>95</td>\n",
              "      <td>95</td>\n",
              "      <td>Paris Saint-Germain</td>\n",
              "      <td>83</td>\n",
              "    </tr>\n",
              "    <tr>\n",
              "      <th>89</th>\n",
              "      <td>4</td>\n",
              "      <td>Kevin De Bruyne</td>\n",
              "      <td>CAM, CM</td>\n",
              "      <td>91</td>\n",
              "      <td>2.0</td>\n",
              "      <td>93</td>\n",
              "      <td>92</td>\n",
              "      <td>88</td>\n",
              "      <td>Manchester City</td>\n",
              "      <td>85</td>\n",
              "    </tr>\n",
              "  </tbody>\n",
              "</table>\n",
              "</div>\n",
              "      <button class=\"colab-df-convert\" onclick=\"convertToInteractive('df-4ef32b68-3349-44cb-a365-b62c8243f029')\"\n",
              "              title=\"Convert this dataframe to an interactive table.\"\n",
              "              style=\"display:none;\">\n",
              "        \n",
              "  <svg xmlns=\"http://www.w3.org/2000/svg\" height=\"24px\"viewBox=\"0 0 24 24\"\n",
              "       width=\"24px\">\n",
              "    <path d=\"M0 0h24v24H0V0z\" fill=\"none\"/>\n",
              "    <path d=\"M18.56 5.44l.94 2.06.94-2.06 2.06-.94-2.06-.94-.94-2.06-.94 2.06-2.06.94zm-11 1L8.5 8.5l.94-2.06 2.06-.94-2.06-.94L8.5 2.5l-.94 2.06-2.06.94zm10 10l.94 2.06.94-2.06 2.06-.94-2.06-.94-.94-2.06-.94 2.06-2.06.94z\"/><path d=\"M17.41 7.96l-1.37-1.37c-.4-.4-.92-.59-1.43-.59-.52 0-1.04.2-1.43.59L10.3 9.45l-7.72 7.72c-.78.78-.78 2.05 0 2.83L4 21.41c.39.39.9.59 1.41.59.51 0 1.02-.2 1.41-.59l7.78-7.78 2.81-2.81c.8-.78.8-2.07 0-2.86zM5.41 20L4 18.59l7.72-7.72 1.47 1.35L5.41 20z\"/>\n",
              "  </svg>\n",
              "      </button>\n",
              "      \n",
              "  <style>\n",
              "    .colab-df-container {\n",
              "      display:flex;\n",
              "      flex-wrap:wrap;\n",
              "      gap: 12px;\n",
              "    }\n",
              "\n",
              "    .colab-df-convert {\n",
              "      background-color: #E8F0FE;\n",
              "      border: none;\n",
              "      border-radius: 50%;\n",
              "      cursor: pointer;\n",
              "      display: none;\n",
              "      fill: #1967D2;\n",
              "      height: 32px;\n",
              "      padding: 0 0 0 0;\n",
              "      width: 32px;\n",
              "    }\n",
              "\n",
              "    .colab-df-convert:hover {\n",
              "      background-color: #E2EBFA;\n",
              "      box-shadow: 0px 1px 2px rgba(60, 64, 67, 0.3), 0px 1px 3px 1px rgba(60, 64, 67, 0.15);\n",
              "      fill: #174EA6;\n",
              "    }\n",
              "\n",
              "    [theme=dark] .colab-df-convert {\n",
              "      background-color: #3B4455;\n",
              "      fill: #D2E3FC;\n",
              "    }\n",
              "\n",
              "    [theme=dark] .colab-df-convert:hover {\n",
              "      background-color: #434B5C;\n",
              "      box-shadow: 0px 1px 3px 1px rgba(0, 0, 0, 0.15);\n",
              "      filter: drop-shadow(0px 1px 2px rgba(0, 0, 0, 0.3));\n",
              "      fill: #FFFFFF;\n",
              "    }\n",
              "  </style>\n",
              "\n",
              "      <script>\n",
              "        const buttonEl =\n",
              "          document.querySelector('#df-4ef32b68-3349-44cb-a365-b62c8243f029 button.colab-df-convert');\n",
              "        buttonEl.style.display =\n",
              "          google.colab.kernel.accessAllowed ? 'block' : 'none';\n",
              "\n",
              "        async function convertToInteractive(key) {\n",
              "          const element = document.querySelector('#df-4ef32b68-3349-44cb-a365-b62c8243f029');\n",
              "          const dataTable =\n",
              "            await google.colab.kernel.invokeFunction('convertToInteractive',\n",
              "                                                     [key], {});\n",
              "          if (!dataTable) return;\n",
              "\n",
              "          const docLinkHtml = 'Like what you see? Visit the ' +\n",
              "            '<a target=\"_blank\" href=https://colab.research.google.com/notebooks/data_table.ipynb>data table notebook</a>'\n",
              "            + ' to learn more about interactive tables.';\n",
              "          element.innerHTML = '';\n",
              "          dataTable['output_type'] = 'display_data';\n",
              "          await google.colab.output.renderOutput(dataTable, element);\n",
              "          const docLink = document.createElement('div');\n",
              "          docLink.innerHTML = docLinkHtml;\n",
              "          element.appendChild(docLink);\n",
              "        }\n",
              "      </script>\n",
              "    </div>\n",
              "  </div>\n",
              "  "
            ],
            "text/plain": [
              "     int_player_id                      str_player_name str_positions  \\\n",
              "0                1       Lionel Andrés Messi Cuccittini    RW, ST, CF   \n",
              "33               2  Cristiano Ronaldo dos Santos Aveiro        ST, LW   \n",
              "57               3                            Jan Oblak            GK   \n",
              "121              5        Neymar da Silva Santos Júnior       LW, CAM   \n",
              "89               4                      Kevin De Bruyne       CAM, CM   \n",
              "\n",
              "     int_overall_rating  int_team_id  int_long_passing  int_ball_control  \\\n",
              "0                    93          5.0                91                96   \n",
              "33                   92          6.0                77                92   \n",
              "57                   91          8.0                40                30   \n",
              "121                  91          7.0                81                95   \n",
              "89                   91          2.0                93                92   \n",
              "\n",
              "     int_dribbling        str_team_name  int_overall  \n",
              "0               96         FC Barcelona           84  \n",
              "33              88             Juventus           83  \n",
              "57              12      Atlético Madrid           83  \n",
              "121             95  Paris Saint-Germain           83  \n",
              "89              88      Manchester City           85  "
            ]
          },
          "execution_count": 1,
          "metadata": {},
          "output_type": "execute_result"
        }
      ],
      "source": [
        "import pandas as pd\n",
        "\n",
        "# Download data (quietly)\n",
        "!wget -q https://raw.githubusercontent.com/batuhan-demirci/fifa21_dataset/master/data/tbl_player.csv\n",
        "!wget -q https://raw.githubusercontent.com/batuhan-demirci/fifa21_dataset/master/data/tbl_player_skill.csv\n",
        "!wget -q https://raw.githubusercontent.com/batuhan-demirci/fifa21_dataset/master/data/tbl_team.csv\n",
        "\n",
        "# Load data\n",
        "player_df = pd.read_csv(\"tbl_player.csv\")\n",
        "skill_df = pd.read_csv(\"tbl_player_skill.csv\")\n",
        "team_df = pd.read_csv(\"tbl_team.csv\")\n",
        "\n",
        "# Extract subsets\n",
        "player_df = player_df[[\"int_player_id\", \"str_player_name\", \"str_positions\", \"int_overall_rating\", \"int_team_id\"]]\n",
        "skill_df = skill_df[[\"int_player_id\", \"int_long_passing\", \"int_ball_control\", \"int_dribbling\"]]\n",
        "team_df = team_df[[\"int_team_id\", \"str_team_name\", \"int_overall\"]]\n",
        "\n",
        "# Merge data\n",
        "player_df = player_df.merge(skill_df, on='int_player_id')\n",
        "fifa_df = player_df.merge(team_df, on='int_team_id')\n",
        "\n",
        "# Sort dataframe\n",
        "fifa_df = fifa_df.sort_values(by=\"int_overall_rating\", ascending=False)\n",
        "print(\"Players: \", fifa_df.shape[0])\n",
        "fifa_df.head()"
      ]
    },
    {
      "cell_type": "markdown",
      "metadata": {
        "id": "moTJ9C-gU_3s"
      },
      "source": [
        "Let's first identify the graph-specific things we need:\n",
        "\n",
        "- `Nodes` - Football players (by ID)\n",
        "- `Edges` - If they play for the same team (see explanation below)\n",
        "- `Node Features` - The football player's position, specialities, ball control, ...\n",
        "- `Labels` - The football player's overall rating (node-level regression task)\n",
        "\n",
        "\n",
        "Nodes are usually very straight-forward to identify - here we even have IDs.\n",
        "If you don't have a unique identifier, you need one, because you need to know between which nodes a connection exists!\n",
        "\n",
        " The most challenging task is typically to link these nodes somehow through edges. Here we define the edges based on the team assignment. With this dataset, we could predict the expected rating when a player switches to a new team or a new player is observed. Therefore we expect relational effects through the team assignment. Of course there are many other possibilities to define the edges such as:\n",
        "- How many times two players played together (edge weight) --> Synergies\n",
        "- How many times a player has won/los 1:1 duels (edge weight)\n",
        "- Started their career in the same football club \n",
        "- Temporal edges: \"Played together in the last 2 weeks\"\n",
        "- ...\n",
        "\n",
        "As you can see, there are many choices how to combine instances in the dataframe. We will continue with the easiest approach, which is connecting them accoring to their team assignments.\n",
        "\n"
      ]
    },
    {
      "cell_type": "code",
      "execution_count": null,
      "metadata": {
        "colab": {
          "base_uri": "https://localhost:8080/"
        },
        "id": "l7PHSCSyVAoe",
        "outputId": "6e4e2b76-9f23-46bb-ea25-3d93317b835c"
      },
      "outputs": [
        {
          "data": {
            "text/plain": [
              "1"
            ]
          },
          "execution_count": 2,
          "metadata": {},
          "output_type": "execute_result"
        }
      ],
      "source": [
        "# Make sure that we have no duplicate nodes\n",
        "max(fifa_df[\"int_player_id\"].value_counts())"
      ]
    },
    {
      "cell_type": "markdown",
      "metadata": {
        "id": "pdOJXh1SVaPf"
      },
      "source": [
        "Each football player ID occurs only once in our dataset. \n",
        "\n",
        "\n",
        "\n",
        "> Note that we plan to build one single graph here! If individual node-id's occur more than once in your dataset, there are different options:\n",
        "\n",
        "- You have multiple graphs that can contain the same node. In this case you need to iterate over each subset of your dataframe, that belongs to one individual graph and do the calculations on this subset\n",
        "- You have to aggregate multiple rows into one. For example if you have transactional data (like a payment history), you would need to summarize this somehow into one feature vector, such as: #payments, payment amount, ...\n",
        "- You have a temporal dataset and need to check section 2.)\n"
      ]
    },
    {
      "cell_type": "markdown",
      "metadata": {
        "id": "EYWIw-hYVoiG"
      },
      "source": [
        "`Preprocessing one single graph...`"
      ]
    },
    {
      "cell_type": "markdown",
      "metadata": {
        "id": "25y8Zr1HVrcJ"
      },
      "source": [
        "`Step 4`: Extract the node features\n",
        "\n",
        "The node features are typically represented in a matrix of the shape *(num_nodes, node_feature_dim)*.\n",
        "\n",
        "For each of the football players, we simply extract their attributes. Because each player id is unique, we can easily do this based on the original dataframe. Have a look at the other examples in this notebook to see how an aggregation can look like if you have multiple rows for individual nodes."
      ]
    },
    {
      "cell_type": "code",
      "execution_count": null,
      "metadata": {
        "colab": {
          "base_uri": "https://localhost:8080/",
          "height": 206
        },
        "id": "4L7fSJTmVqA8",
        "outputId": "f06eb310-00ea-4100-a705-1e834bb3fa58"
      },
      "outputs": [
        {
          "data": {
            "text/html": [
              "\n",
              "  <div id=\"df-6bff963a-183e-4d27-86e9-6e7cddb80909\">\n",
              "    <div class=\"colab-df-container\">\n",
              "      <div>\n",
              "<style scoped>\n",
              "    .dataframe tbody tr th:only-of-type {\n",
              "        vertical-align: middle;\n",
              "    }\n",
              "\n",
              "    .dataframe tbody tr th {\n",
              "        vertical-align: top;\n",
              "    }\n",
              "\n",
              "    .dataframe thead th {\n",
              "        text-align: right;\n",
              "    }\n",
              "</style>\n",
              "<table border=\"1\" class=\"dataframe\">\n",
              "  <thead>\n",
              "    <tr style=\"text-align: right;\">\n",
              "      <th></th>\n",
              "      <th>int_long_passing</th>\n",
              "      <th>int_ball_control</th>\n",
              "      <th>int_dribbling</th>\n",
              "      <th>CAM</th>\n",
              "      <th>CB</th>\n",
              "      <th>CDM</th>\n",
              "      <th>CF</th>\n",
              "      <th>CM</th>\n",
              "      <th>GK</th>\n",
              "      <th>LB</th>\n",
              "      <th>LM</th>\n",
              "      <th>LW</th>\n",
              "      <th>LWB</th>\n",
              "      <th>RB</th>\n",
              "      <th>RM</th>\n",
              "      <th>RW</th>\n",
              "      <th>RWB</th>\n",
              "      <th>ST</th>\n",
              "    </tr>\n",
              "  </thead>\n",
              "  <tbody>\n",
              "    <tr>\n",
              "      <th>0</th>\n",
              "      <td>91</td>\n",
              "      <td>96</td>\n",
              "      <td>96</td>\n",
              "      <td>0</td>\n",
              "      <td>0</td>\n",
              "      <td>0</td>\n",
              "      <td>0</td>\n",
              "      <td>0</td>\n",
              "      <td>0</td>\n",
              "      <td>0</td>\n",
              "      <td>0</td>\n",
              "      <td>0</td>\n",
              "      <td>0</td>\n",
              "      <td>0</td>\n",
              "      <td>0</td>\n",
              "      <td>1</td>\n",
              "      <td>0</td>\n",
              "      <td>0</td>\n",
              "    </tr>\n",
              "    <tr>\n",
              "      <th>33</th>\n",
              "      <td>77</td>\n",
              "      <td>92</td>\n",
              "      <td>88</td>\n",
              "      <td>0</td>\n",
              "      <td>0</td>\n",
              "      <td>0</td>\n",
              "      <td>0</td>\n",
              "      <td>0</td>\n",
              "      <td>0</td>\n",
              "      <td>0</td>\n",
              "      <td>0</td>\n",
              "      <td>0</td>\n",
              "      <td>0</td>\n",
              "      <td>0</td>\n",
              "      <td>0</td>\n",
              "      <td>0</td>\n",
              "      <td>0</td>\n",
              "      <td>1</td>\n",
              "    </tr>\n",
              "    <tr>\n",
              "      <th>57</th>\n",
              "      <td>40</td>\n",
              "      <td>30</td>\n",
              "      <td>12</td>\n",
              "      <td>0</td>\n",
              "      <td>0</td>\n",
              "      <td>0</td>\n",
              "      <td>0</td>\n",
              "      <td>0</td>\n",
              "      <td>1</td>\n",
              "      <td>0</td>\n",
              "      <td>0</td>\n",
              "      <td>0</td>\n",
              "      <td>0</td>\n",
              "      <td>0</td>\n",
              "      <td>0</td>\n",
              "      <td>0</td>\n",
              "      <td>0</td>\n",
              "      <td>0</td>\n",
              "    </tr>\n",
              "    <tr>\n",
              "      <th>89</th>\n",
              "      <td>93</td>\n",
              "      <td>92</td>\n",
              "      <td>88</td>\n",
              "      <td>1</td>\n",
              "      <td>0</td>\n",
              "      <td>0</td>\n",
              "      <td>0</td>\n",
              "      <td>0</td>\n",
              "      <td>0</td>\n",
              "      <td>0</td>\n",
              "      <td>0</td>\n",
              "      <td>0</td>\n",
              "      <td>0</td>\n",
              "      <td>0</td>\n",
              "      <td>0</td>\n",
              "      <td>0</td>\n",
              "      <td>0</td>\n",
              "      <td>0</td>\n",
              "    </tr>\n",
              "    <tr>\n",
              "      <th>121</th>\n",
              "      <td>81</td>\n",
              "      <td>95</td>\n",
              "      <td>95</td>\n",
              "      <td>0</td>\n",
              "      <td>0</td>\n",
              "      <td>0</td>\n",
              "      <td>0</td>\n",
              "      <td>0</td>\n",
              "      <td>0</td>\n",
              "      <td>0</td>\n",
              "      <td>0</td>\n",
              "      <td>1</td>\n",
              "      <td>0</td>\n",
              "      <td>0</td>\n",
              "      <td>0</td>\n",
              "      <td>0</td>\n",
              "      <td>0</td>\n",
              "      <td>0</td>\n",
              "    </tr>\n",
              "  </tbody>\n",
              "</table>\n",
              "</div>\n",
              "      <button class=\"colab-df-convert\" onclick=\"convertToInteractive('df-6bff963a-183e-4d27-86e9-6e7cddb80909')\"\n",
              "              title=\"Convert this dataframe to an interactive table.\"\n",
              "              style=\"display:none;\">\n",
              "        \n",
              "  <svg xmlns=\"http://www.w3.org/2000/svg\" height=\"24px\"viewBox=\"0 0 24 24\"\n",
              "       width=\"24px\">\n",
              "    <path d=\"M0 0h24v24H0V0z\" fill=\"none\"/>\n",
              "    <path d=\"M18.56 5.44l.94 2.06.94-2.06 2.06-.94-2.06-.94-.94-2.06-.94 2.06-2.06.94zm-11 1L8.5 8.5l.94-2.06 2.06-.94-2.06-.94L8.5 2.5l-.94 2.06-2.06.94zm10 10l.94 2.06.94-2.06 2.06-.94-2.06-.94-.94-2.06-.94 2.06-2.06.94z\"/><path d=\"M17.41 7.96l-1.37-1.37c-.4-.4-.92-.59-1.43-.59-.52 0-1.04.2-1.43.59L10.3 9.45l-7.72 7.72c-.78.78-.78 2.05 0 2.83L4 21.41c.39.39.9.59 1.41.59.51 0 1.02-.2 1.41-.59l7.78-7.78 2.81-2.81c.8-.78.8-2.07 0-2.86zM5.41 20L4 18.59l7.72-7.72 1.47 1.35L5.41 20z\"/>\n",
              "  </svg>\n",
              "      </button>\n",
              "      \n",
              "  <style>\n",
              "    .colab-df-container {\n",
              "      display:flex;\n",
              "      flex-wrap:wrap;\n",
              "      gap: 12px;\n",
              "    }\n",
              "\n",
              "    .colab-df-convert {\n",
              "      background-color: #E8F0FE;\n",
              "      border: none;\n",
              "      border-radius: 50%;\n",
              "      cursor: pointer;\n",
              "      display: none;\n",
              "      fill: #1967D2;\n",
              "      height: 32px;\n",
              "      padding: 0 0 0 0;\n",
              "      width: 32px;\n",
              "    }\n",
              "\n",
              "    .colab-df-convert:hover {\n",
              "      background-color: #E2EBFA;\n",
              "      box-shadow: 0px 1px 2px rgba(60, 64, 67, 0.3), 0px 1px 3px 1px rgba(60, 64, 67, 0.15);\n",
              "      fill: #174EA6;\n",
              "    }\n",
              "\n",
              "    [theme=dark] .colab-df-convert {\n",
              "      background-color: #3B4455;\n",
              "      fill: #D2E3FC;\n",
              "    }\n",
              "\n",
              "    [theme=dark] .colab-df-convert:hover {\n",
              "      background-color: #434B5C;\n",
              "      box-shadow: 0px 1px 3px 1px rgba(0, 0, 0, 0.15);\n",
              "      filter: drop-shadow(0px 1px 2px rgba(0, 0, 0, 0.3));\n",
              "      fill: #FFFFFF;\n",
              "    }\n",
              "  </style>\n",
              "\n",
              "      <script>\n",
              "        const buttonEl =\n",
              "          document.querySelector('#df-6bff963a-183e-4d27-86e9-6e7cddb80909 button.colab-df-convert');\n",
              "        buttonEl.style.display =\n",
              "          google.colab.kernel.accessAllowed ? 'block' : 'none';\n",
              "\n",
              "        async function convertToInteractive(key) {\n",
              "          const element = document.querySelector('#df-6bff963a-183e-4d27-86e9-6e7cddb80909');\n",
              "          const dataTable =\n",
              "            await google.colab.kernel.invokeFunction('convertToInteractive',\n",
              "                                                     [key], {});\n",
              "          if (!dataTable) return;\n",
              "\n",
              "          const docLinkHtml = 'Like what you see? Visit the ' +\n",
              "            '<a target=\"_blank\" href=https://colab.research.google.com/notebooks/data_table.ipynb>data table notebook</a>'\n",
              "            + ' to learn more about interactive tables.';\n",
              "          element.innerHTML = '';\n",
              "          dataTable['output_type'] = 'display_data';\n",
              "          await google.colab.output.renderOutput(dataTable, element);\n",
              "          const docLink = document.createElement('div');\n",
              "          docLink.innerHTML = docLinkHtml;\n",
              "          element.appendChild(docLink);\n",
              "        }\n",
              "      </script>\n",
              "    </div>\n",
              "  </div>\n",
              "  "
            ],
            "text/plain": [
              "     int_long_passing  int_ball_control  int_dribbling  CAM  CB  CDM  CF  CM  \\\n",
              "0                  91                96             96    0   0    0   0   0   \n",
              "33                 77                92             88    0   0    0   0   0   \n",
              "57                 40                30             12    0   0    0   0   0   \n",
              "89                 93                92             88    1   0    0   0   0   \n",
              "121                81                95             95    0   0    0   0   0   \n",
              "\n",
              "     GK  LB  LM  LW  LWB  RB  RM  RW  RWB  ST  \n",
              "0     0   0   0   0    0   0   0   1    0   0  \n",
              "33    0   0   0   0    0   0   0   0    0   1  \n",
              "57    1   0   0   0    0   0   0   0    0   0  \n",
              "89    0   0   0   0    0   0   0   0    0   0  \n",
              "121   0   0   0   1    0   0   0   0    0   0  "
            ]
          },
          "execution_count": 3,
          "metadata": {},
          "output_type": "execute_result"
        }
      ],
      "source": [
        "# Sort to define the order of nodes\n",
        "sorted_df = fifa_df.sort_values(by=\"int_player_id\")\n",
        "# Select node features\n",
        "node_features = sorted_df[[\"str_positions\", \"int_long_passing\", \"int_ball_control\", \"int_dribbling\"]]\n",
        "# Convert non-numeric columns\n",
        "pd.set_option('mode.chained_assignment', None)\n",
        "positions = node_features[\"str_positions\"].str.split(\",\", expand=True)\n",
        "node_features[\"first_position\"] = positions[0]\n",
        "# One-hot encoding\n",
        "node_features = pd.concat([node_features, pd.get_dummies(node_features[\"first_position\"])], axis=1, join='inner')\n",
        "node_features.drop([\"str_positions\", \"first_position\"], axis=1, inplace=True)\n",
        "node_features.head() "
      ]
    },
    {
      "cell_type": "markdown",
      "metadata": {
        "id": "ae5B-DLuWZiq"
      },
      "source": [
        "That's already our node feature matrix. The number of nodes and the ordering is implicitly defined by it's shape. Each row corresponds to one node in our final graph. "
      ]
    },
    {
      "cell_type": "code",
      "execution_count": null,
      "metadata": {
        "colab": {
          "base_uri": "https://localhost:8080/"
        },
        "id": "B5u8CspOV0ct",
        "outputId": "0688a46e-41ab-414e-b592-6f447ad61d01"
      },
      "outputs": [
        {
          "data": {
            "text/plain": [
              "(18767, 18)"
            ]
          },
          "execution_count": 4,
          "metadata": {},
          "output_type": "execute_result"
        }
      ],
      "source": [
        "# Convert to numpy\n",
        "x = node_features.to_numpy()\n",
        "x.shape # [num_nodes x num_features]"
      ]
    },
    {
      "cell_type": "markdown",
      "metadata": {
        "id": "mZJEzHAzWfxd"
      },
      "source": [
        "`Step 5`: Extract the labels\n",
        "\n",
        "Those are simply the ratings of each of the players. This corresponds to a node-level prediction problem. Therefore we have as many labels as we have nodes. Of course it can happen that we don't have labels for all nodes and in this case it makes sense to define masks using Pytorch Geometric's helper functions."
      ]
    },
    {
      "cell_type": "code",
      "execution_count": null,
      "metadata": {
        "colab": {
          "base_uri": "https://localhost:8080/",
          "height": 206
        },
        "id": "84I2nGMIWdV8",
        "outputId": "7dbdffc2-d8a4-44b0-9983-ea281220690f"
      },
      "outputs": [
        {
          "data": {
            "text/html": [
              "\n",
              "  <div id=\"df-699873af-7df4-4ba3-8291-1aa405b9d68f\">\n",
              "    <div class=\"colab-df-container\">\n",
              "      <div>\n",
              "<style scoped>\n",
              "    .dataframe tbody tr th:only-of-type {\n",
              "        vertical-align: middle;\n",
              "    }\n",
              "\n",
              "    .dataframe tbody tr th {\n",
              "        vertical-align: top;\n",
              "    }\n",
              "\n",
              "    .dataframe thead th {\n",
              "        text-align: right;\n",
              "    }\n",
              "</style>\n",
              "<table border=\"1\" class=\"dataframe\">\n",
              "  <thead>\n",
              "    <tr style=\"text-align: right;\">\n",
              "      <th></th>\n",
              "      <th>int_overall</th>\n",
              "    </tr>\n",
              "  </thead>\n",
              "  <tbody>\n",
              "    <tr>\n",
              "      <th>0</th>\n",
              "      <td>84</td>\n",
              "    </tr>\n",
              "    <tr>\n",
              "      <th>33</th>\n",
              "      <td>83</td>\n",
              "    </tr>\n",
              "    <tr>\n",
              "      <th>57</th>\n",
              "      <td>83</td>\n",
              "    </tr>\n",
              "    <tr>\n",
              "      <th>89</th>\n",
              "      <td>85</td>\n",
              "    </tr>\n",
              "    <tr>\n",
              "      <th>121</th>\n",
              "      <td>83</td>\n",
              "    </tr>\n",
              "  </tbody>\n",
              "</table>\n",
              "</div>\n",
              "      <button class=\"colab-df-convert\" onclick=\"convertToInteractive('df-699873af-7df4-4ba3-8291-1aa405b9d68f')\"\n",
              "              title=\"Convert this dataframe to an interactive table.\"\n",
              "              style=\"display:none;\">\n",
              "        \n",
              "  <svg xmlns=\"http://www.w3.org/2000/svg\" height=\"24px\"viewBox=\"0 0 24 24\"\n",
              "       width=\"24px\">\n",
              "    <path d=\"M0 0h24v24H0V0z\" fill=\"none\"/>\n",
              "    <path d=\"M18.56 5.44l.94 2.06.94-2.06 2.06-.94-2.06-.94-.94-2.06-.94 2.06-2.06.94zm-11 1L8.5 8.5l.94-2.06 2.06-.94-2.06-.94L8.5 2.5l-.94 2.06-2.06.94zm10 10l.94 2.06.94-2.06 2.06-.94-2.06-.94-.94-2.06-.94 2.06-2.06.94z\"/><path d=\"M17.41 7.96l-1.37-1.37c-.4-.4-.92-.59-1.43-.59-.52 0-1.04.2-1.43.59L10.3 9.45l-7.72 7.72c-.78.78-.78 2.05 0 2.83L4 21.41c.39.39.9.59 1.41.59.51 0 1.02-.2 1.41-.59l7.78-7.78 2.81-2.81c.8-.78.8-2.07 0-2.86zM5.41 20L4 18.59l7.72-7.72 1.47 1.35L5.41 20z\"/>\n",
              "  </svg>\n",
              "      </button>\n",
              "      \n",
              "  <style>\n",
              "    .colab-df-container {\n",
              "      display:flex;\n",
              "      flex-wrap:wrap;\n",
              "      gap: 12px;\n",
              "    }\n",
              "\n",
              "    .colab-df-convert {\n",
              "      background-color: #E8F0FE;\n",
              "      border: none;\n",
              "      border-radius: 50%;\n",
              "      cursor: pointer;\n",
              "      display: none;\n",
              "      fill: #1967D2;\n",
              "      height: 32px;\n",
              "      padding: 0 0 0 0;\n",
              "      width: 32px;\n",
              "    }\n",
              "\n",
              "    .colab-df-convert:hover {\n",
              "      background-color: #E2EBFA;\n",
              "      box-shadow: 0px 1px 2px rgba(60, 64, 67, 0.3), 0px 1px 3px 1px rgba(60, 64, 67, 0.15);\n",
              "      fill: #174EA6;\n",
              "    }\n",
              "\n",
              "    [theme=dark] .colab-df-convert {\n",
              "      background-color: #3B4455;\n",
              "      fill: #D2E3FC;\n",
              "    }\n",
              "\n",
              "    [theme=dark] .colab-df-convert:hover {\n",
              "      background-color: #434B5C;\n",
              "      box-shadow: 0px 1px 3px 1px rgba(0, 0, 0, 0.15);\n",
              "      filter: drop-shadow(0px 1px 2px rgba(0, 0, 0, 0.3));\n",
              "      fill: #FFFFFF;\n",
              "    }\n",
              "  </style>\n",
              "\n",
              "      <script>\n",
              "        const buttonEl =\n",
              "          document.querySelector('#df-699873af-7df4-4ba3-8291-1aa405b9d68f button.colab-df-convert');\n",
              "        buttonEl.style.display =\n",
              "          google.colab.kernel.accessAllowed ? 'block' : 'none';\n",
              "\n",
              "        async function convertToInteractive(key) {\n",
              "          const element = document.querySelector('#df-699873af-7df4-4ba3-8291-1aa405b9d68f');\n",
              "          const dataTable =\n",
              "            await google.colab.kernel.invokeFunction('convertToInteractive',\n",
              "                                                     [key], {});\n",
              "          if (!dataTable) return;\n",
              "\n",
              "          const docLinkHtml = 'Like what you see? Visit the ' +\n",
              "            '<a target=\"_blank\" href=https://colab.research.google.com/notebooks/data_table.ipynb>data table notebook</a>'\n",
              "            + ' to learn more about interactive tables.';\n",
              "          element.innerHTML = '';\n",
              "          dataTable['output_type'] = 'display_data';\n",
              "          await google.colab.output.renderOutput(dataTable, element);\n",
              "          const docLink = document.createElement('div');\n",
              "          docLink.innerHTML = docLinkHtml;\n",
              "          element.appendChild(docLink);\n",
              "        }\n",
              "      </script>\n",
              "    </div>\n",
              "  </div>\n",
              "  "
            ],
            "text/plain": [
              "     int_overall\n",
              "0             84\n",
              "33            83\n",
              "57            83\n",
              "89            85\n",
              "121           83"
            ]
          },
          "execution_count": 5,
          "metadata": {},
          "output_type": "execute_result"
        }
      ],
      "source": [
        "# Sort to define the order of nodes\n",
        "sorted_df = fifa_df.sort_values(by=\"int_player_id\")\n",
        "# Select node features\n",
        "labels = sorted_df[[\"int_overall\"]]\n",
        "labels.head()"
      ]
    },
    {
      "cell_type": "code",
      "execution_count": null,
      "metadata": {
        "colab": {
          "base_uri": "https://localhost:8080/"
        },
        "id": "AfShWZdTWqrz",
        "outputId": "46980632-e2c3-4978-c54c-ea0c90cf6468"
      },
      "outputs": [
        {
          "data": {
            "text/plain": [
              "(18767, 1)"
            ]
          },
          "execution_count": 6,
          "metadata": {},
          "output_type": "execute_result"
        }
      ],
      "source": [
        "# Convert to numpy\n",
        "y = labels.to_numpy()\n",
        "y.shape # [num_nodes, 1] --> node regression"
      ]
    },
    {
      "cell_type": "markdown",
      "metadata": {
        "id": "dB6IveelWwoT"
      },
      "source": [
        "`Step 6`: Extract the edges\n",
        "\n",
        "That's probably the trickiest part with a tabular dataset. You need to think of a reasonable way to connect your nodes. As mentioned previously, we will use the team assignment here.\n",
        "\n",
        "\n",
        "> **AGAIN: There are many ways to connect the entities in a dataset and this approach is very trivial (as it will lead to disconnected subgraphs). If I wanted to build a real model from this dataset, I would probably look for a more sophisticated way to connect the players. Using a GNN is a bit overkill for the way I model the edges.**\n",
        "\n",
        "\n",
        "We now need to find the pairs of players that are assigned to the same team.\n",
        "Let's first check how many players per team we have."
      ]
    },
    {
      "cell_type": "code",
      "execution_count": null,
      "metadata": {
        "id": "2rDQx8gbWuOj"
      },
      "outputs": [],
      "source": [
        "# Remap player IDs\n",
        "fifa_df[\"int_player_id\"] = fifa_df.reset_index().index"
      ]
    },
    {
      "cell_type": "code",
      "execution_count": null,
      "metadata": {
        "colab": {
          "base_uri": "https://localhost:8080/"
        },
        "id": "8chD72zOW4oD",
        "outputId": "a6aead4e-7dd5-46fd-9893-fc66a9260f03"
      },
      "outputs": [
        {
          "data": {
            "text/plain": [
              "Everton                   36\n",
              "Valencia CF               34\n",
              "FC Nantes                 34\n",
              "Villarreal CF             34\n",
              "Real Valladolid CF        34\n",
              "                          ..\n",
              "Wellington Phoenix        19\n",
              "Central Coast Mariners    19\n",
              "Melbourne Victory         19\n",
              "Brisbane Roar             19\n",
              "Adelaide United           19\n",
              "Name: str_team_name, Length: 681, dtype: int64"
            ]
          },
          "execution_count": 8,
          "metadata": {},
          "output_type": "execute_result"
        }
      ],
      "source": [
        "# This tells us how many players per team we have to connect\n",
        "fifa_df[\"str_team_name\"].value_counts()"
      ]
    },
    {
      "cell_type": "markdown",
      "metadata": {
        "id": "8XfCciBoW-uw"
      },
      "source": [
        "We now need to build all permutations of these players within one team, which corresponds to a fully-connected graph within each team-subgroup. We use the column int_player_id as indices for the edges. If there is for example a [0, 1] in the edge index, it means that the first and second node (regarding the previously defined node feature matrix) are connected."
      ]
    },
    {
      "cell_type": "code",
      "execution_count": null,
      "metadata": {
        "colab": {
          "base_uri": "https://localhost:8080/"
        },
        "id": "JDscfKIJW6yb",
        "outputId": "3444e267-fef5-451f-a3e7-2be8f3e3fe0e"
      },
      "outputs": [
        {
          "data": {
            "text/plain": [
              "array([[    0,     0,     0, ..., 18704, 18704, 18719],\n",
              "       [    7,    32,    45, ..., 18719, 18751, 18751]])"
            ]
          },
          "execution_count": 9,
          "metadata": {},
          "output_type": "execute_result"
        }
      ],
      "source": [
        "import itertools\n",
        "import numpy as np\n",
        "\n",
        "teams = fifa_df[\"str_team_name\"].unique()\n",
        "all_edges = np.array([], dtype=np.int32).reshape((0, 2))\n",
        "for team in teams:\n",
        "    team_df = fifa_df[fifa_df[\"str_team_name\"] == team]\n",
        "    players = team_df[\"int_player_id\"].values\n",
        "    # Build all combinations, as all players are connected\n",
        "    permutations = list(itertools.combinations(players, 2))\n",
        "    edges_source = [e[0] for e in permutations]\n",
        "    edges_target = [e[1] for e in permutations]\n",
        "    team_edges = np.column_stack([edges_source, edges_target])\n",
        "    all_edges = np.vstack([all_edges, team_edges])\n",
        "# Convert to Pytorch Geometric format\n",
        "edge_index = all_edges.transpose()\n",
        "edge_index # [2, num_edges]"
      ]
    },
    {
      "cell_type": "markdown",
      "metadata": {
        "id": "Hz4KcyALXPZm"
      },
      "source": [
        "The result are these source/target edge pairs. Here you can also model dircted or undirected edges by inluding both or just one direction (I included both). This COO format is usually chosen as it is more efficient than a *NxN* adjacency matrix."
      ]
    },
    {
      "cell_type": "markdown",
      "metadata": {
        "id": "Q3pHlm4-XSru"
      },
      "source": [
        "`Step 7`: Build the dataset\n",
        "\n",
        "Now we have all the components we need to build a graph for libraries like Pytorch Geometric or DGL. I won't install these libraries here, as this will make the notebook too bulky, but here are some code snippets for the final steps.\n",
        "\n",
        "\n",
        "We need to pass the numpy arrays to the Data object, like this. If you have further attributes like edge_features, you can also pass them here.\n",
        "```\n",
        "from torch_geometric.data import Data\n",
        "data = Data(x=x, edge_index=edge_index, y=y)\n",
        "```\n",
        "\n",
        "This data object represents one single graph.\n",
        "\n",
        "\n",
        "Typically several graphs are combined in a dataset object. For this please refer to [the documentation](https://pytorch-geometric.readthedocs.io/en/latest/notes/create_dataset.html) or [this video](https://www.youtube.com/watch?v=QLIkOtKS4os&ab_channel=DeepFindr).\n",
        "Other than that, you can also quickly build a dataloader as follows. Just create a list of all your graphs and pass them to the Pytorch Geometric dataloader.\n",
        "\n",
        "```\n",
        "from torch_geometric.loader import DataLoader\n",
        "data_list = [Data(...), ..., Data(...)]\n",
        "loader = DataLoader(data_list, batch_size=32)\n",
        "```\n",
        "\n",
        "\n",
        "\n"
      ]
    },
    {
      "cell_type": "code",
      "execution_count": null,
      "metadata": {
        "colab": {
          "background_save": true,
          "base_uri": "https://localhost:8080/"
        },
        "id": "hZqfxcFfXLdE",
        "outputId": "3a330f5f-08cb-4a3b-ccc0-4bd9d0190c71"
      },
      "outputs": [
        {
          "name": "stdout",
          "output_type": "stream",
          "text": [
            "Looking in indexes: https://pypi.org/simple, https://us-python.pkg.dev/colab-wheels/public/simple/\n",
            "Looking in links: https://data.pyg.org/whl/torch-+.html\n",
            "Collecting torch-scatter\n",
            "  Downloading torch_scatter-2.0.9.tar.gz (21 kB)\n",
            "Building wheels for collected packages: torch-scatter\n",
            "  Building wheel for torch-scatter (setup.py) ... \u001b[?25l\u001b[?25hdone\n",
            "  Created wheel for torch-scatter: filename=torch_scatter-2.0.9-cp37-cp37m-linux_x86_64.whl size=279639 sha256=05e61061318f5f28149cd48113c502a120db124fc34804d734361e2eaa7c99f9\n",
            "  Stored in directory: /root/.cache/pip/wheels/dd/57/a3/42ea193b77378ce634eb9454c9bc1e3163f3b482a35cdee4d1\n",
            "Successfully built torch-scatter\n",
            "Installing collected packages: torch-scatter\n",
            "Successfully installed torch-scatter-2.0.9\n",
            "Looking in indexes: https://pypi.org/simple, https://us-python.pkg.dev/colab-wheels/public/simple/\n",
            "Looking in links: https://data.pyg.org/whl/torch-+.html\n",
            "Collecting torch-sparse\n",
            "  Downloading torch_sparse-0.6.14.tar.gz (51 kB)\n",
            "\u001b[K     |████████████████████████████████| 51 kB 139 kB/s \n",
            "\u001b[?25hRequirement already satisfied: scipy in /usr/local/lib/python3.7/dist-packages (from torch-sparse) (1.4.1)\n",
            "Requirement already satisfied: numpy>=1.13.3 in /usr/local/lib/python3.7/dist-packages (from scipy->torch-sparse) (1.21.6)\n",
            "Building wheels for collected packages: torch-sparse\n",
            "  Building wheel for torch-sparse (setup.py) ... \u001b[?25l\u001b[?25hdone\n",
            "  Created wheel for torch-sparse: filename=torch_sparse-0.6.14-cp37-cp37m-linux_x86_64.whl size=514667 sha256=22591bdc0c9290dea8b27a67f6596abfe298cbfd9b32d7f77fb9af4dd8c53e8a\n",
            "  Stored in directory: /root/.cache/pip/wheels/3c/aa/62/db0259eae2abce84f1ee2cf1c531bba683aab4bf79054172f8\n",
            "Successfully built torch-sparse\n",
            "Installing collected packages: torch-sparse\n",
            "Successfully installed torch-sparse-0.6.14\n",
            "Looking in indexes: https://pypi.org/simple, https://us-python.pkg.dev/colab-wheels/public/simple/\n",
            "Collecting torch-geometric\n",
            "  Downloading torch_geometric-2.0.4.tar.gz (407 kB)\n",
            "\u001b[K     |████████████████████████████████| 407 kB 8.8 MB/s \n",
            "\u001b[?25hRequirement already satisfied: tqdm in /usr/local/lib/python3.7/dist-packages (from torch-geometric) (4.64.0)\n",
            "Requirement already satisfied: numpy in /usr/local/lib/python3.7/dist-packages (from torch-geometric) (1.21.6)\n",
            "Requirement already satisfied: scipy in /usr/local/lib/python3.7/dist-packages (from torch-geometric) (1.4.1)\n",
            "Requirement already satisfied: pandas in /usr/local/lib/python3.7/dist-packages (from torch-geometric) (1.3.5)\n",
            "Requirement already satisfied: jinja2 in /usr/local/lib/python3.7/dist-packages (from torch-geometric) (2.11.3)\n",
            "Requirement already satisfied: requests in /usr/local/lib/python3.7/dist-packages (from torch-geometric) (2.23.0)\n",
            "Requirement already satisfied: pyparsing in /usr/local/lib/python3.7/dist-packages (from torch-geometric) (3.0.9)\n",
            "Requirement already satisfied: scikit-learn in /usr/local/lib/python3.7/dist-packages (from torch-geometric) (1.0.2)\n",
            "Requirement already satisfied: MarkupSafe>=0.23 in /usr/local/lib/python3.7/dist-packages (from jinja2->torch-geometric) (2.0.1)\n",
            "Requirement already satisfied: python-dateutil>=2.7.3 in /usr/local/lib/python3.7/dist-packages (from pandas->torch-geometric) (2.8.2)\n",
            "Requirement already satisfied: pytz>=2017.3 in /usr/local/lib/python3.7/dist-packages (from pandas->torch-geometric) (2022.1)\n",
            "Requirement already satisfied: six>=1.5 in /usr/local/lib/python3.7/dist-packages (from python-dateutil>=2.7.3->pandas->torch-geometric) (1.15.0)\n",
            "Requirement already satisfied: certifi>=2017.4.17 in /usr/local/lib/python3.7/dist-packages (from requests->torch-geometric) (2022.6.15)\n",
            "Requirement already satisfied: idna<3,>=2.5 in /usr/local/lib/python3.7/dist-packages (from requests->torch-geometric) (2.10)\n",
            "Requirement already satisfied: chardet<4,>=3.0.2 in /usr/local/lib/python3.7/dist-packages (from requests->torch-geometric) (3.0.4)\n",
            "Requirement already satisfied: urllib3!=1.25.0,!=1.25.1,<1.26,>=1.21.1 in /usr/local/lib/python3.7/dist-packages (from requests->torch-geometric) (1.24.3)\n",
            "Requirement already satisfied: threadpoolctl>=2.0.0 in /usr/local/lib/python3.7/dist-packages (from scikit-learn->torch-geometric) (3.1.0)\n",
            "Requirement already satisfied: joblib>=0.11 in /usr/local/lib/python3.7/dist-packages (from scikit-learn->torch-geometric) (1.1.0)\n",
            "Building wheels for collected packages: torch-geometric\n",
            "  Building wheel for torch-geometric (setup.py) ... \u001b[?25l\u001b[?25hdone\n",
            "  Created wheel for torch-geometric: filename=torch_geometric-2.0.4-py3-none-any.whl size=616603 sha256=142c4821a3669b60d20eb28ddf80e6828a7240cc6643a2391c60eddb504df76e\n",
            "  Stored in directory: /root/.cache/pip/wheels/18/a6/a4/ca18c3051fcead866fe7b85700ee2240d883562a1bc70ce421\n",
            "Successfully built torch-geometric\n",
            "Installing collected packages: torch-geometric\n",
            "Successfully installed torch-geometric-2.0.4\n"
          ]
        }
      ],
      "source": [
        "!pip install torch-scatter -f https://data.pyg.org/whl/torch-1.11.0+cu113.html\n",
        "!pip install torch-sparse -f https://data.pyg.org/whl/torch-1.11.0+cu113.html\n",
        "!pip install torch-geometric"
      ]
    },
    {
      "cell_type": "code",
      "execution_count": null,
      "metadata": {
        "id": "fFSfo5xxZm8K"
      },
      "outputs": [],
      "source": [
        "from torch_geometric.data import Data\n",
        "data = Data(x=x, edge_index=edge_index, y=y)"
      ]
    },
    {
      "cell_type": "code",
      "execution_count": null,
      "metadata": {
        "id": "Dptyd8fFZ65z"
      },
      "outputs": [],
      "source": [
        "from torch_geometric.loader import DataLoader\n",
        "data_list = [Data(...), ..., Data(...)]\n",
        "loader = DataLoader(data_list, batch_size=32)"
      ]
    },
    {
      "cell_type": "markdown",
      "source": [
        "Next Step: Try GNN on this step..."
      ],
      "metadata": {
        "id": "PKktY5FvmqpU"
      }
    },
    {
      "cell_type": "code",
      "source": [
        ""
      ],
      "metadata": {
        "id": "racTqFD7mv9-"
      },
      "execution_count": null,
      "outputs": []
    }
  ],
  "metadata": {
    "accelerator": "GPU",
    "colab": {
      "collapsed_sections": [],
      "name": "ConvertingTabularDatasetToGraphDataset.ipynb",
      "provenance": [],
      "authorship_tag": "ABX9TyOEF1zkjj4LDSFshrpHUmWG",
      "include_colab_link": true
    },
    "gpuClass": "standard",
    "kernelspec": {
      "display_name": "Python 3",
      "name": "python3"
    },
    "language_info": {
      "name": "python"
    }
  },
  "nbformat": 4,
  "nbformat_minor": 0
}