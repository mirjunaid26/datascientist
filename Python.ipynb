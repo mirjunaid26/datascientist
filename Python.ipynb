{
  "nbformat": 4,
  "nbformat_minor": 0,
  "metadata": {
    "colab": {
      "name": "Python.ipynb",
      "provenance": [],
      "collapsed_sections": [],
      "authorship_tag": "ABX9TyMk0OVOhePntud+O6ULDuBX",
      "include_colab_link": true
    },
    "kernelspec": {
      "name": "python3",
      "display_name": "Python 3"
    },
    "language_info": {
      "name": "python"
    },
    "gpuClass": "standard"
  },
  "cells": [
    {
      "cell_type": "markdown",
      "metadata": {
        "id": "view-in-github",
        "colab_type": "text"
      },
      "source": [
        "<a href=\"https://colab.research.google.com/github/mirjunaid26/datascientist/blob/main/Python.ipynb\" target=\"_parent\"><img src=\"https://colab.research.google.com/assets/colab-badge.svg\" alt=\"Open In Colab\"/></a>"
      ]
    },
    {
      "cell_type": "markdown",
      "source": [
        "# **Brush Up Python Programming**\n",
        "\n",
        "[Source: Learn Python](https://www.learnpython.org/en/Loops)"
      ],
      "metadata": {
        "id": "D48A-VPJJuQV"
      }
    },
    {
      "cell_type": "markdown",
      "source": [
        "## **Loops**\n",
        "\n",
        "**There are two types of loops in Python, for and while.**"
      ],
      "metadata": {
        "id": "7MVcRKxMIF03"
      }
    },
    {
      "cell_type": "markdown",
      "source": [
        "'For' loops iterate over a given sequence. Here are some examples:"
      ],
      "metadata": {
        "id": "aBEIZhwVJfaw"
      }
    },
    {
      "cell_type": "code",
      "source": [
        "primes = [2, 3, 5, 7]\n",
        "for prime in primes:\n",
        "  print(prime)"
      ],
      "metadata": {
        "colab": {
          "base_uri": "https://localhost:8080/"
        },
        "id": "KeUfS9SMIVhQ",
        "outputId": "c31bb2be-52ba-4bbd-c868-6254d80520c6"
      },
      "execution_count": 1,
      "outputs": [
        {
          "output_type": "stream",
          "name": "stdout",
          "text": [
            "2\n",
            "3\n",
            "5\n",
            "7\n"
          ]
        }
      ]
    },
    {
      "cell_type": "code",
      "source": [
        "for x in range(5):\n",
        "  print(x)"
      ],
      "metadata": {
        "colab": {
          "base_uri": "https://localhost:8080/"
        },
        "id": "VnUg4luHIiTL",
        "outputId": "54912736-e0ff-4500-db3d-36cc5cd1d2b0"
      },
      "execution_count": 3,
      "outputs": [
        {
          "output_type": "stream",
          "name": "stdout",
          "text": [
            "0\n",
            "1\n",
            "2\n",
            "3\n",
            "4\n"
          ]
        }
      ]
    },
    {
      "cell_type": "code",
      "source": [
        "for x in range(3, 6):\n",
        "  print(x)"
      ],
      "metadata": {
        "colab": {
          "base_uri": "https://localhost:8080/"
        },
        "id": "q9up70qtI8Oi",
        "outputId": "599f1a54-3bd7-45c2-c7f0-90b1a8ee5d1b"
      },
      "execution_count": 5,
      "outputs": [
        {
          "output_type": "stream",
          "name": "stdout",
          "text": [
            "3\n",
            "4\n",
            "5\n"
          ]
        }
      ]
    },
    {
      "cell_type": "code",
      "source": [
        "for x in range(3, 8, 2):\n",
        "  print(x)"
      ],
      "metadata": {
        "colab": {
          "base_uri": "https://localhost:8080/"
        },
        "id": "K5uafEj9JDEG",
        "outputId": "d7f767f2-5b66-482d-e6ca-210f123fbc22"
      },
      "execution_count": 9,
      "outputs": [
        {
          "output_type": "stream",
          "name": "stdout",
          "text": [
            "3\n",
            "5\n",
            "7\n"
          ]
        }
      ]
    },
    {
      "cell_type": "code",
      "source": [
        "\n",
        "for x in range(3, 8, 3):\n",
        "  print(x)"
      ],
      "metadata": {
        "colab": {
          "base_uri": "https://localhost:8080/"
        },
        "id": "HaVj0hivJH3u",
        "outputId": "881ffeb0-a6a5-438e-e7e7-d68378b32b8f"
      },
      "execution_count": 10,
      "outputs": [
        {
          "output_type": "stream",
          "name": "stdout",
          "text": [
            "3\n",
            "6\n"
          ]
        }
      ]
    },
    {
      "cell_type": "code",
      "source": [
        "\n",
        "for x in range(3, 8, 1):\n",
        "  print(x)"
      ],
      "metadata": {
        "colab": {
          "base_uri": "https://localhost:8080/"
        },
        "id": "-nsrbhrUJVyo",
        "outputId": "fbec9a18-dcce-45de-bd4d-0d93802acdae"
      },
      "execution_count": 11,
      "outputs": [
        {
          "output_type": "stream",
          "name": "stdout",
          "text": [
            "3\n",
            "4\n",
            "5\n",
            "6\n",
            "7\n"
          ]
        }
      ]
    },
    {
      "cell_type": "markdown",
      "source": [
        "'While' loops repeat as long as a certain boolean condition is met. For example:"
      ],
      "metadata": {
        "id": "lloeff_mJ_qr"
      }
    },
    {
      "cell_type": "code",
      "source": [
        "count = 0\n",
        "while count < 5:\n",
        "  print(count)\n",
        "  count += 1 # This is same as count = count +1"
      ],
      "metadata": {
        "colab": {
          "base_uri": "https://localhost:8080/"
        },
        "id": "yzm15u7LJYDu",
        "outputId": "6d050792-4532-4527-86dd-89391095f0ec"
      },
      "execution_count": 12,
      "outputs": [
        {
          "output_type": "stream",
          "name": "stdout",
          "text": [
            "0\n",
            "1\n",
            "2\n",
            "3\n",
            "4\n"
          ]
        }
      ]
    },
    {
      "cell_type": "markdown",
      "source": [
        "**\"break\" and \"continue\" statements**\n",
        "\n",
        "break is used to exit a for loop or a while loop, whereas continue is used to skip the current block, and return to the \"for\" or \"while\" statement. A few examples:"
      ],
      "metadata": {
        "id": "4eTZKeUPKZ4G"
      }
    },
    {
      "cell_type": "code",
      "source": [
        "count = 0\n",
        "while True:\n",
        "  print(count)\n",
        "  count += 1\n",
        "  if count >= 5:\n",
        "    break"
      ],
      "metadata": {
        "colab": {
          "base_uri": "https://localhost:8080/"
        },
        "id": "a2GnNgAIKO5f",
        "outputId": "dd3f0a98-bac3-4983-c975-1c267c740c3f"
      },
      "execution_count": 13,
      "outputs": [
        {
          "output_type": "stream",
          "name": "stdout",
          "text": [
            "0\n",
            "1\n",
            "2\n",
            "3\n",
            "4\n"
          ]
        }
      ]
    },
    {
      "cell_type": "code",
      "source": [
        "for x in range(10):\n",
        "  if x%2 == 0:\n",
        "    continue\n",
        "  print(x)"
      ],
      "metadata": {
        "colab": {
          "base_uri": "https://localhost:8080/"
        },
        "id": "PgFIbWPsLAyU",
        "outputId": "d90f42f1-3c80-4b66-c1d8-ad2f08d5cd5f"
      },
      "execution_count": 14,
      "outputs": [
        {
          "output_type": "stream",
          "name": "stdout",
          "text": [
            "1\n",
            "3\n",
            "5\n",
            "7\n",
            "9\n"
          ]
        }
      ]
    },
    {
      "cell_type": "markdown",
      "source": [
        "**Can we use \"else\" clause for loops?**\n",
        "\n",
        "Unlike languages like C,CPP.. we can use else for loops. When the loop condition of \"for\" or \"while\" statement fails then code part in \"else\" is executed. If a break statement is executed inside the for loop then the \"else\" part is skipped. Note that the \"else\" part is executed even if there is a continue statement. Here are a few examples:\n",
        "\n"
      ],
      "metadata": {
        "id": "Ol5AuRT3MAc1"
      }
    },
    {
      "cell_type": "code",
      "source": [
        "count=0\n",
        "while(count<5):\n",
        "  print(count)\n",
        "  count += 1\n",
        "else:\n",
        "  print(\"count value reached %d\" %(count))"
      ],
      "metadata": {
        "colab": {
          "base_uri": "https://localhost:8080/"
        },
        "id": "-S9URt5eLUKP",
        "outputId": "bac1ce15-5f99-4aca-859b-8c5bf6e0b073"
      },
      "execution_count": 15,
      "outputs": [
        {
          "output_type": "stream",
          "name": "stdout",
          "text": [
            "0\n",
            "1\n",
            "2\n",
            "3\n",
            "4\n",
            "count value reached 5\n"
          ]
        }
      ]
    },
    {
      "cell_type": "code",
      "source": [
        "for i in range(1, 10):\n",
        "  if(i%5==0):\n",
        "    break\n",
        "  print(i)\n",
        "else:\n",
        "  print(\"this is not printed because for loop is terminated because of break but not due to fail in condition\")"
      ],
      "metadata": {
        "colab": {
          "base_uri": "https://localhost:8080/"
        },
        "id": "R9_pTunkMfcz",
        "outputId": "211d34b7-d68f-4d0c-c742-58c6dd1fe0ff"
      },
      "execution_count": 18,
      "outputs": [
        {
          "output_type": "stream",
          "name": "stdout",
          "text": [
            "1\n",
            "2\n",
            "3\n",
            "4\n"
          ]
        }
      ]
    },
    {
      "cell_type": "markdown",
      "source": [
        "**Exercise**\n",
        "\n",
        "Loop through and print out all even numbers from the numbers list in the same order they are received. Don't print any numbers that come after 237 in the sequence."
      ],
      "metadata": {
        "id": "fmPa2UKaNivR"
      }
    },
    {
      "cell_type": "code",
      "source": [
        "numbers = [\n",
        "    951, 402, 984, 651, 360, 69, 408, 319, 601, 485, 980, 507, 725, 547, 544,\n",
        "    615, 83, 165, 141, 501, 263, 617, 865, 575, 219, 390, 984, 592, 236, 105, 942, 941,\n",
        "    386, 462, 47, 418, 907, 344, 236, 375, 823, 566, 597, 978, 328, 615, 953, 345,\n",
        "    399, 162, 758, 219, 918, 237, 412, 566, 826, 248, 866, 950, 626, 949, 687, 217,\n",
        "    815, 67, 104, 58, 512, 24, 892, 894, 767, 553, 81, 379, 843, 831, 445, 742, 717,\n",
        "    958, 609, 842, 451, 688, 753, 854, 685, 93, 857, 440, 380, 126, 721, 328, 753, 470,\n",
        "    743, 527\n",
        "]\n",
        "\n",
        "\n",
        "for number in numbers:\n",
        "  \n",
        "    if number == 237:\n",
        "      break\n",
        "    \n",
        "    if number % 2 == 1:\n",
        "      continue\n",
        "\n",
        "    print(number)\n",
        "\n",
        "    "
      ],
      "metadata": {
        "colab": {
          "base_uri": "https://localhost:8080/"
        },
        "id": "LUKUH8_KM1l6",
        "outputId": "a4b066ee-c4f0-4012-dbdf-5c6385d7996a"
      },
      "execution_count": 2,
      "outputs": [
        {
          "output_type": "stream",
          "name": "stdout",
          "text": [
            "402\n",
            "984\n",
            "360\n",
            "408\n",
            "980\n",
            "544\n",
            "390\n",
            "984\n",
            "592\n",
            "236\n",
            "942\n",
            "386\n",
            "462\n",
            "418\n",
            "344\n",
            "236\n",
            "566\n",
            "978\n",
            "328\n",
            "162\n",
            "758\n",
            "918\n"
          ]
        }
      ]
    },
    {
      "cell_type": "markdown",
      "source": [
        "**Functions**\n",
        "\n",
        "Functions are a convenient way to divide your code into useful blocks, allowing us to order our code, make it more readable, reuse it and save some time. Also functions are a key way to define interfaces so programmers can share their code.\n",
        "\n",
        "Functions in python are defined using the block keyword \"def\", followed with the function's name as the block's name. For example:"
      ],
      "metadata": {
        "id": "GZfqNy-qVLLC"
      }
    },
    {
      "cell_type": "code",
      "source": [
        "def my_function():\n",
        "  print(\"Hello From My Function!\")\n",
        "\n",
        "def my_function_with_args(username, greeting):\n",
        "  print(\"Hello, %s. From My Function!, I wish you %s\"%(username, greeting))\n",
        "\n",
        "def sum_two_numbers(a, b):\n",
        "  return(a + b)\n"
      ],
      "metadata": {
        "id": "_0226By1OX3A"
      },
      "execution_count": 5,
      "outputs": []
    },
    {
      "cell_type": "code",
      "source": [
        "\n",
        "my_function()"
      ],
      "metadata": {
        "colab": {
          "base_uri": "https://localhost:8080/"
        },
        "id": "Lkl63e2RWMIU",
        "outputId": "d8f5bfee-5a65-4469-8317-fc54c6231b0b"
      },
      "execution_count": 6,
      "outputs": [
        {
          "output_type": "stream",
          "name": "stdout",
          "text": [
            "Hello From My Function!\n"
          ]
        }
      ]
    },
    {
      "cell_type": "code",
      "source": [
        "my_function_with_args(\"John Doe\", \"a great year!\")"
      ],
      "metadata": {
        "colab": {
          "base_uri": "https://localhost:8080/"
        },
        "id": "YlwTe-T0WUjq",
        "outputId": "d4b4ccf3-d4cf-44e2-bdce-a5435eccbc73"
      },
      "execution_count": 7,
      "outputs": [
        {
          "output_type": "stream",
          "name": "stdout",
          "text": [
            "Hello, John Doe. From My Function!, I wish you a great year!\n"
          ]
        }
      ]
    },
    {
      "cell_type": "code",
      "source": [
        "sum_two_numbers(2, 3)"
      ],
      "metadata": {
        "colab": {
          "base_uri": "https://localhost:8080/"
        },
        "id": "fIj_sgKDWcGh",
        "outputId": "0dcd47d0-ee1b-48d5-df80-1791c5a519cc"
      },
      "execution_count": 8,
      "outputs": [
        {
          "output_type": "execute_result",
          "data": {
            "text/plain": [
              "5"
            ]
          },
          "metadata": {},
          "execution_count": 8
        }
      ]
    },
    {
      "cell_type": "code",
      "source": [
        "def list_benefits():\n",
        "  return \"More organized code\", \"More readable code\", \"Easier code reuse\", \"Allowing programmers to share and connect code together\"\n",
        "\n",
        "def build_sentence(benefit):\n",
        "  return \"%s is a benefit of functions!\" % benefit\n",
        "\n",
        "def name_the_benefits_of_functions():\n",
        "  list_of_benefits = list_benefits()\n",
        "  for benefit in list_of_benefits:\n",
        "    print(build_sentence(benefit))\n",
        "\n",
        "name_the_benefits_of_functions()"
      ],
      "metadata": {
        "colab": {
          "base_uri": "https://localhost:8080/"
        },
        "id": "FfpJSU_gWhjr",
        "outputId": "b91b8863-097b-4315-ab73-977a489b32ae"
      },
      "execution_count": 16,
      "outputs": [
        {
          "output_type": "stream",
          "name": "stdout",
          "text": [
            "More organized code is a benefit of functions!\n",
            "More readable code is a benefit of functions!\n",
            "Easier code reuse is a benefit of functions!\n",
            "Allowing programmers to share and connect code together is a benefit of functions!\n"
          ]
        }
      ]
    },
    {
      "cell_type": "code",
      "source": [
        ""
      ],
      "metadata": {
        "id": "rJgdAYfyXwWP"
      },
      "execution_count": null,
      "outputs": []
    }
  ]
}