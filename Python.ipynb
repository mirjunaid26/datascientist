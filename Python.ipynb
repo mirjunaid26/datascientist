{
  "nbformat": 4,
  "nbformat_minor": 0,
  "metadata": {
    "colab": {
      "name": "Python.ipynb",
      "provenance": [],
      "collapsed_sections": [],
      "authorship_tag": "ABX9TyM6Z9RixeUqiQEl1hpQdEs2",
      "include_colab_link": true
    },
    "kernelspec": {
      "name": "python3",
      "display_name": "Python 3"
    },
    "language_info": {
      "name": "python"
    },
    "gpuClass": "standard"
  },
  "cells": [
    {
      "cell_type": "markdown",
      "metadata": {
        "id": "view-in-github",
        "colab_type": "text"
      },
      "source": [
        "<a href=\"https://colab.research.google.com/github/mirjunaid26/datascientist/blob/main/Python.ipynb\" target=\"_parent\"><img src=\"https://colab.research.google.com/assets/colab-badge.svg\" alt=\"Open In Colab\"/></a>"
      ]
    },
    {
      "cell_type": "markdown",
      "source": [
        "# **Brush Up Python Programming**\n",
        "\n",
        "[Source: Learn Python](https://www.learnpython.org/en/Loops)"
      ],
      "metadata": {
        "id": "D48A-VPJJuQV"
      }
    },
    {
      "cell_type": "markdown",
      "source": [
        "## **Loops**\n",
        "\n",
        "**There are two types of loops in Python, for and while.**"
      ],
      "metadata": {
        "id": "7MVcRKxMIF03"
      }
    },
    {
      "cell_type": "markdown",
      "source": [
        "'For' loops iterate over a given sequence. Here are some examples:"
      ],
      "metadata": {
        "id": "aBEIZhwVJfaw"
      }
    },
    {
      "cell_type": "code",
      "source": [
        "primes = [2, 3, 5, 7]\n",
        "for prime in primes:\n",
        "  print(prime)"
      ],
      "metadata": {
        "colab": {
          "base_uri": "https://localhost:8080/"
        },
        "id": "KeUfS9SMIVhQ",
        "outputId": "c31bb2be-52ba-4bbd-c868-6254d80520c6"
      },
      "execution_count": null,
      "outputs": [
        {
          "output_type": "stream",
          "name": "stdout",
          "text": [
            "2\n",
            "3\n",
            "5\n",
            "7\n"
          ]
        }
      ]
    },
    {
      "cell_type": "code",
      "source": [
        "for x in range(5):\n",
        "  print(x)"
      ],
      "metadata": {
        "colab": {
          "base_uri": "https://localhost:8080/"
        },
        "id": "VnUg4luHIiTL",
        "outputId": "54912736-e0ff-4500-db3d-36cc5cd1d2b0"
      },
      "execution_count": null,
      "outputs": [
        {
          "output_type": "stream",
          "name": "stdout",
          "text": [
            "0\n",
            "1\n",
            "2\n",
            "3\n",
            "4\n"
          ]
        }
      ]
    },
    {
      "cell_type": "code",
      "source": [
        "for x in range(3, 6):\n",
        "  print(x)"
      ],
      "metadata": {
        "colab": {
          "base_uri": "https://localhost:8080/"
        },
        "id": "q9up70qtI8Oi",
        "outputId": "599f1a54-3bd7-45c2-c7f0-90b1a8ee5d1b"
      },
      "execution_count": null,
      "outputs": [
        {
          "output_type": "stream",
          "name": "stdout",
          "text": [
            "3\n",
            "4\n",
            "5\n"
          ]
        }
      ]
    },
    {
      "cell_type": "code",
      "source": [
        "for x in range(3, 8, 2):\n",
        "  print(x)"
      ],
      "metadata": {
        "colab": {
          "base_uri": "https://localhost:8080/"
        },
        "id": "K5uafEj9JDEG",
        "outputId": "d7f767f2-5b66-482d-e6ca-210f123fbc22"
      },
      "execution_count": null,
      "outputs": [
        {
          "output_type": "stream",
          "name": "stdout",
          "text": [
            "3\n",
            "5\n",
            "7\n"
          ]
        }
      ]
    },
    {
      "cell_type": "code",
      "source": [
        "\n",
        "for x in range(3, 8, 3):\n",
        "  print(x)"
      ],
      "metadata": {
        "colab": {
          "base_uri": "https://localhost:8080/"
        },
        "id": "HaVj0hivJH3u",
        "outputId": "881ffeb0-a6a5-438e-e7e7-d68378b32b8f"
      },
      "execution_count": null,
      "outputs": [
        {
          "output_type": "stream",
          "name": "stdout",
          "text": [
            "3\n",
            "6\n"
          ]
        }
      ]
    },
    {
      "cell_type": "code",
      "source": [
        "\n",
        "for x in range(3, 8, 1):\n",
        "  print(x)"
      ],
      "metadata": {
        "colab": {
          "base_uri": "https://localhost:8080/"
        },
        "id": "-nsrbhrUJVyo",
        "outputId": "fbec9a18-dcce-45de-bd4d-0d93802acdae"
      },
      "execution_count": null,
      "outputs": [
        {
          "output_type": "stream",
          "name": "stdout",
          "text": [
            "3\n",
            "4\n",
            "5\n",
            "6\n",
            "7\n"
          ]
        }
      ]
    },
    {
      "cell_type": "markdown",
      "source": [
        "'While' loops repeat as long as a certain boolean condition is met. For example:"
      ],
      "metadata": {
        "id": "lloeff_mJ_qr"
      }
    },
    {
      "cell_type": "code",
      "source": [
        "count = 0\n",
        "while count < 5:\n",
        "  print(count)\n",
        "  count += 1 # This is same as count = count +1"
      ],
      "metadata": {
        "colab": {
          "base_uri": "https://localhost:8080/"
        },
        "id": "yzm15u7LJYDu",
        "outputId": "6d050792-4532-4527-86dd-89391095f0ec"
      },
      "execution_count": null,
      "outputs": [
        {
          "output_type": "stream",
          "name": "stdout",
          "text": [
            "0\n",
            "1\n",
            "2\n",
            "3\n",
            "4\n"
          ]
        }
      ]
    },
    {
      "cell_type": "markdown",
      "source": [
        "**\"break\" and \"continue\" statements**\n",
        "\n",
        "break is used to exit a for loop or a while loop, whereas continue is used to skip the current block, and return to the \"for\" or \"while\" statement. A few examples:"
      ],
      "metadata": {
        "id": "4eTZKeUPKZ4G"
      }
    },
    {
      "cell_type": "code",
      "source": [
        "count = 0\n",
        "while True:\n",
        "  print(count)\n",
        "  count += 1\n",
        "  if count >= 5:\n",
        "    break"
      ],
      "metadata": {
        "colab": {
          "base_uri": "https://localhost:8080/"
        },
        "id": "a2GnNgAIKO5f",
        "outputId": "dd3f0a98-bac3-4983-c975-1c267c740c3f"
      },
      "execution_count": null,
      "outputs": [
        {
          "output_type": "stream",
          "name": "stdout",
          "text": [
            "0\n",
            "1\n",
            "2\n",
            "3\n",
            "4\n"
          ]
        }
      ]
    },
    {
      "cell_type": "code",
      "source": [
        "for x in range(10):\n",
        "  if x%2 == 0:\n",
        "    continue\n",
        "  print(x)"
      ],
      "metadata": {
        "colab": {
          "base_uri": "https://localhost:8080/"
        },
        "id": "PgFIbWPsLAyU",
        "outputId": "d90f42f1-3c80-4b66-c1d8-ad2f08d5cd5f"
      },
      "execution_count": null,
      "outputs": [
        {
          "output_type": "stream",
          "name": "stdout",
          "text": [
            "1\n",
            "3\n",
            "5\n",
            "7\n",
            "9\n"
          ]
        }
      ]
    },
    {
      "cell_type": "markdown",
      "source": [
        "**Can we use \"else\" clause for loops?**\n",
        "\n",
        "Unlike languages like C,CPP.. we can use else for loops. When the loop condition of \"for\" or \"while\" statement fails then code part in \"else\" is executed. If a break statement is executed inside the for loop then the \"else\" part is skipped. Note that the \"else\" part is executed even if there is a continue statement. Here are a few examples:\n",
        "\n"
      ],
      "metadata": {
        "id": "Ol5AuRT3MAc1"
      }
    },
    {
      "cell_type": "code",
      "source": [
        "count=0\n",
        "while(count<5):\n",
        "  print(count)\n",
        "  count += 1\n",
        "else:\n",
        "  print(\"count value reached %d\" %(count))"
      ],
      "metadata": {
        "colab": {
          "base_uri": "https://localhost:8080/"
        },
        "id": "-S9URt5eLUKP",
        "outputId": "bac1ce15-5f99-4aca-859b-8c5bf6e0b073"
      },
      "execution_count": null,
      "outputs": [
        {
          "output_type": "stream",
          "name": "stdout",
          "text": [
            "0\n",
            "1\n",
            "2\n",
            "3\n",
            "4\n",
            "count value reached 5\n"
          ]
        }
      ]
    },
    {
      "cell_type": "code",
      "source": [
        "for i in range(1, 10):\n",
        "  if(i%5==0):\n",
        "    break\n",
        "  print(i)\n",
        "else:\n",
        "  print(\"this is not printed because for loop is terminated because of break but not due to fail in condition\")"
      ],
      "metadata": {
        "colab": {
          "base_uri": "https://localhost:8080/"
        },
        "id": "R9_pTunkMfcz",
        "outputId": "211d34b7-d68f-4d0c-c742-58c6dd1fe0ff"
      },
      "execution_count": null,
      "outputs": [
        {
          "output_type": "stream",
          "name": "stdout",
          "text": [
            "1\n",
            "2\n",
            "3\n",
            "4\n"
          ]
        }
      ]
    },
    {
      "cell_type": "markdown",
      "source": [
        "**Exercise**\n",
        "\n",
        "Loop through and print out all even numbers from the numbers list in the same order they are received. Don't print any numbers that come after 237 in the sequence."
      ],
      "metadata": {
        "id": "fmPa2UKaNivR"
      }
    },
    {
      "cell_type": "code",
      "source": [
        "numbers = [\n",
        "    951, 402, 984, 651, 360, 69, 408, 319, 601, 485, 980, 507, 725, 547, 544,\n",
        "    615, 83, 165, 141, 501, 263, 617, 865, 575, 219, 390, 984, 592, 236, 105, 942, 941,\n",
        "    386, 462, 47, 418, 907, 344, 236, 375, 823, 566, 597, 978, 328, 615, 953, 345,\n",
        "    399, 162, 758, 219, 918, 237, 412, 566, 826, 248, 866, 950, 626, 949, 687, 217,\n",
        "    815, 67, 104, 58, 512, 24, 892, 894, 767, 553, 81, 379, 843, 831, 445, 742, 717,\n",
        "    958, 609, 842, 451, 688, 753, 854, 685, 93, 857, 440, 380, 126, 721, 328, 753, 470,\n",
        "    743, 527\n",
        "]\n",
        "\n",
        "\n",
        "for number in numbers:\n",
        "  \n",
        "    if number == 237:\n",
        "      break\n",
        "    \n",
        "    if number % 2 == 1:\n",
        "      continue\n",
        "\n",
        "    print(number)\n",
        "\n",
        "    "
      ],
      "metadata": {
        "colab": {
          "base_uri": "https://localhost:8080/"
        },
        "id": "LUKUH8_KM1l6",
        "outputId": "a4b066ee-c4f0-4012-dbdf-5c6385d7996a"
      },
      "execution_count": null,
      "outputs": [
        {
          "output_type": "stream",
          "name": "stdout",
          "text": [
            "402\n",
            "984\n",
            "360\n",
            "408\n",
            "980\n",
            "544\n",
            "390\n",
            "984\n",
            "592\n",
            "236\n",
            "942\n",
            "386\n",
            "462\n",
            "418\n",
            "344\n",
            "236\n",
            "566\n",
            "978\n",
            "328\n",
            "162\n",
            "758\n",
            "918\n"
          ]
        }
      ]
    },
    {
      "cell_type": "markdown",
      "source": [
        "**Functions**\n",
        "\n",
        "Functions are a convenient way to divide your code into useful blocks, allowing us to order our code, make it more readable, reuse it and save some time. Also functions are a key way to define interfaces so programmers can share their code.\n",
        "\n",
        "Functions in python are defined using the block keyword \"def\", followed with the function's name as the block's name. For example:"
      ],
      "metadata": {
        "id": "GZfqNy-qVLLC"
      }
    },
    {
      "cell_type": "code",
      "source": [
        "def my_function():\n",
        "  print(\"Hello From My Function!\")\n",
        "\n",
        "def my_function_with_args(username, greeting):\n",
        "  print(\"Hello, %s. From My Function!, I wish you %s\"%(username, greeting))\n",
        "\n",
        "def sum_two_numbers(a, b):\n",
        "  return(a + b)\n"
      ],
      "metadata": {
        "id": "_0226By1OX3A"
      },
      "execution_count": null,
      "outputs": []
    },
    {
      "cell_type": "code",
      "source": [
        "\n",
        "my_function()"
      ],
      "metadata": {
        "colab": {
          "base_uri": "https://localhost:8080/"
        },
        "id": "Lkl63e2RWMIU",
        "outputId": "d8f5bfee-5a65-4469-8317-fc54c6231b0b"
      },
      "execution_count": null,
      "outputs": [
        {
          "output_type": "stream",
          "name": "stdout",
          "text": [
            "Hello From My Function!\n"
          ]
        }
      ]
    },
    {
      "cell_type": "code",
      "source": [
        "my_function_with_args(\"John Doe\", \"a great year!\")"
      ],
      "metadata": {
        "colab": {
          "base_uri": "https://localhost:8080/"
        },
        "id": "YlwTe-T0WUjq",
        "outputId": "d4b4ccf3-d4cf-44e2-bdce-a5435eccbc73"
      },
      "execution_count": null,
      "outputs": [
        {
          "output_type": "stream",
          "name": "stdout",
          "text": [
            "Hello, John Doe. From My Function!, I wish you a great year!\n"
          ]
        }
      ]
    },
    {
      "cell_type": "code",
      "source": [
        "sum_two_numbers(2, 3)"
      ],
      "metadata": {
        "colab": {
          "base_uri": "https://localhost:8080/"
        },
        "id": "fIj_sgKDWcGh",
        "outputId": "0dcd47d0-ee1b-48d5-df80-1791c5a519cc"
      },
      "execution_count": null,
      "outputs": [
        {
          "output_type": "execute_result",
          "data": {
            "text/plain": [
              "5"
            ]
          },
          "metadata": {},
          "execution_count": 8
        }
      ]
    },
    {
      "cell_type": "code",
      "source": [
        "def list_benefits():\n",
        "  return \"More organized code\", \"More readable code\", \"Easier code reuse\", \"Allowing programmers to share and connect code together\"\n",
        "\n",
        "def build_sentence(benefit):\n",
        "  return \"%s is a benefit of functions!\" % benefit\n",
        "\n",
        "def name_the_benefits_of_functions():\n",
        "  list_of_benefits = list_benefits()\n",
        "  for benefit in list_of_benefits:\n",
        "    print(build_sentence(benefit))\n",
        "\n",
        "name_the_benefits_of_functions()"
      ],
      "metadata": {
        "colab": {
          "base_uri": "https://localhost:8080/"
        },
        "id": "FfpJSU_gWhjr",
        "outputId": "b91b8863-097b-4315-ab73-977a489b32ae"
      },
      "execution_count": null,
      "outputs": [
        {
          "output_type": "stream",
          "name": "stdout",
          "text": [
            "More organized code is a benefit of functions!\n",
            "More readable code is a benefit of functions!\n",
            "Easier code reuse is a benefit of functions!\n",
            "Allowing programmers to share and connect code together is a benefit of functions!\n"
          ]
        }
      ]
    },
    {
      "cell_type": "markdown",
      "source": [
        "**Classes and Objects**\n",
        "\n",
        "Objects are an encapsulation of variables and functions into a single entity. Objects get their variables and functions from classes. Classes are essentially a template to create your objects.\n",
        "\n",
        "A very basic class would look something like this:"
      ],
      "metadata": {
        "id": "uOGTKUxqYql3"
      }
    },
    {
      "cell_type": "code",
      "source": [
        "class MyClass:\n",
        "  variable = \"blah\"\n",
        "\n",
        "  def function(self):\n",
        "    print(\"This is a message inside the class.\")\n",
        "\n",
        "myobjectx = MyClass()"
      ],
      "metadata": {
        "id": "rJgdAYfyXwWP"
      },
      "execution_count": null,
      "outputs": []
    },
    {
      "cell_type": "markdown",
      "source": [
        "We'll explain why you have to include that \"self\" as a parameter a little bit later. First, to assign the above class(template) to an object you would do the following:\n",
        "\n"
      ],
      "metadata": {
        "id": "hzXdTWJZZQsj"
      }
    },
    {
      "cell_type": "code",
      "source": [
        "class MyClass:\n",
        "  variable = \"blah\"\n",
        "\n",
        "  def function(self):\n",
        "    print(\"This is a message inside the class.\")\n",
        "\n",
        "myobjectx = MyClass()"
      ],
      "metadata": {
        "id": "v6nItOFHY_vK"
      },
      "execution_count": null,
      "outputs": []
    },
    {
      "cell_type": "markdown",
      "source": [
        "Now the variable \"myobjectx\" holds an object of the class \"MyClass\" that contains the variable and the function defined within the class called \"MyClass\"."
      ],
      "metadata": {
        "id": "FCuarbb-ZWpJ"
      }
    },
    {
      "cell_type": "markdown",
      "source": [
        "**Accessing Object Variables**\n",
        "\n",
        "To access the variable inside of the newly created object \"myobjectx\" you would do the following:"
      ],
      "metadata": {
        "id": "jq2CYEA3ZcGU"
      }
    },
    {
      "cell_type": "code",
      "source": [
        "class MyClass:\n",
        "  variable = \"blah\"\n",
        "\n",
        "  def function(self):\n",
        "    print(\"This is a messafge inside the class.\")\n",
        "\n",
        "myobjectx = MyClass()\n",
        "\n",
        "myobjectx.variable"
      ],
      "metadata": {
        "colab": {
          "base_uri": "https://localhost:8080/",
          "height": 42
        },
        "id": "R1roT4IUZS9i",
        "outputId": "1efd713e-e7ed-4669-fbc7-eb6d95e9cb34"
      },
      "execution_count": null,
      "outputs": [
        {
          "output_type": "execute_result",
          "data": {
            "text/plain": [
              "'blah'"
            ],
            "application/vnd.google.colaboratory.intrinsic+json": {
              "type": "string"
            }
          },
          "metadata": {},
          "execution_count": 20
        }
      ]
    },
    {
      "cell_type": "markdown",
      "source": [
        "So for instance the below would output the string \"blah\":"
      ],
      "metadata": {
        "id": "_GOD2ip0Z4Nf"
      }
    },
    {
      "cell_type": "code",
      "source": [
        "class MyClass:\n",
        "  variabel = \"blah\"\n",
        "\n",
        "  def function(self):\n",
        "    print(\"This is a message inside the class.\")\n",
        "\n",
        "  myobject = MyClass()\n",
        "\n",
        "  print(myobjectx.variable)"
      ],
      "metadata": {
        "colab": {
          "base_uri": "https://localhost:8080/"
        },
        "id": "oVWZwBVyZxof",
        "outputId": "bd697687-8dac-4615-a9f3-8285a6fdf140"
      },
      "execution_count": null,
      "outputs": [
        {
          "output_type": "stream",
          "name": "stdout",
          "text": [
            "blah\n"
          ]
        }
      ]
    },
    {
      "cell_type": "markdown",
      "source": [
        "You can create multiple different objects that are of the same class(have the same variables and functions defined). However, each object contains independent copies of the variables defined in the class. For instance, if we were to define another object with the \"MyClass\" class and then change the string in the variable above:"
      ],
      "metadata": {
        "id": "XE-Y7bMlaVO1"
      }
    },
    {
      "cell_type": "code",
      "source": [
        "class MyClass:\n",
        "  variable = \"blah\"\n",
        "\n",
        "  def function(self):\n",
        "    print(\"This is a message inside the class.\")\n",
        "\n",
        "myobjectx = MyClass()\n",
        "myobjecty = MyClass()\n",
        "\n",
        "myobjecty.variable = \"yackity\"\n",
        "\n",
        "print(myobjectx.variable)\n",
        "print(myobjecty.variable)"
      ],
      "metadata": {
        "colab": {
          "base_uri": "https://localhost:8080/"
        },
        "id": "vUmbDcL5aLHJ",
        "outputId": "3fa38dda-7cf5-4127-ceab-ca1c1205fa1a"
      },
      "execution_count": null,
      "outputs": [
        {
          "output_type": "stream",
          "name": "stdout",
          "text": [
            "blah\n",
            "yackity\n"
          ]
        }
      ]
    },
    {
      "cell_type": "markdown",
      "source": [
        "Accessing Object Functions: To access a function inside of an object you use notation similar to accessing a variable:\n",
        "\n"
      ],
      "metadata": {
        "id": "l4gi1LL0jfZV"
      }
    },
    {
      "cell_type": "code",
      "source": [
        "class MyClass:\n",
        "  variable = \"blah\"\n",
        "\n",
        "  def function(self):\n",
        "    print(\"This is a message inside the class.\")\n",
        "\n",
        "myobjectx = MyClass()\n",
        "\n",
        "myobjecty.function()"
      ],
      "metadata": {
        "colab": {
          "base_uri": "https://localhost:8080/"
        },
        "id": "mYytyCtBaud9",
        "outputId": "54a89392-d8b3-4dd6-fba0-d63f5f99cd52"
      },
      "execution_count": null,
      "outputs": [
        {
          "output_type": "stream",
          "name": "stdout",
          "text": [
            "This is a message inside the class.\n"
          ]
        }
      ]
    },
    {
      "cell_type": "markdown",
      "source": [
        "# **init()**\n",
        "\n",
        "The __init__() function, is a special function that is called when the class is being initiated. It's used for assigning values in a class."
      ],
      "metadata": {
        "id": "bT2cqgF5kCXJ"
      }
    },
    {
      "cell_type": "code",
      "source": [
        "class NumberHolder:\n",
        "\n",
        "  def __init__(self, number):\n",
        "    self.number = number"
      ],
      "metadata": {
        "id": "4RAz35qrj4RB"
      },
      "execution_count": null,
      "outputs": []
    },
    {
      "cell_type": "markdown",
      "source": [
        "**Exercise:** We have a class defined for vehicles. Create two new vehicles called car1 and car2. Set car1 to be a red convertible worth 60,000.00 dollars with a name of Fer, and car2 to be a blue van named Jump worth 10,000.00 dollars."
      ],
      "metadata": {
        "id": "0UiIcIZEk5Xp"
      }
    },
    {
      "cell_type": "code",
      "source": [
        "# define the Vehicle class\n",
        "class Vehicle:\n",
        "  name = \"\"\n",
        "  kind = \"car\"\n",
        "  color = \"\"\n",
        "  value = 100.00\n",
        "  def description(self):\n",
        "    desc_str = \"%s is a %s %s worth $%.2f.\" % (self.name, self.color, self.kind, self.value)\n",
        "    return desc_str"
      ],
      "metadata": {
        "id": "Ato9Cl1Okjoa"
      },
      "execution_count": null,
      "outputs": []
    },
    {
      "cell_type": "code",
      "source": [
        "car1 = Vehicle()\n",
        "car1.name = \"Fer\"\n",
        "car1.color = \"red\"\n",
        "car1.kind = \"convertible\"\n",
        "car1.value = 60000.00\n",
        "\n",
        "print(car1.description())"
      ],
      "metadata": {
        "colab": {
          "base_uri": "https://localhost:8080/"
        },
        "id": "0orZyBa_mtf9",
        "outputId": "9d6ccc3c-19c2-4602-f36c-828c744bea46"
      },
      "execution_count": null,
      "outputs": [
        {
          "output_type": "stream",
          "name": "stdout",
          "text": [
            "Fer is a red convertible worth $60000.00.\n"
          ]
        }
      ]
    },
    {
      "cell_type": "code",
      "source": [
        "car2 = Vehicle()\n",
        "car2.name = \"Jump\"\n",
        "car2.color = \"blue\"\n",
        "car2.kind = \"van\"\n",
        "car2.value = 10000.00\n",
        "\n",
        "print(car2.description())"
      ],
      "metadata": {
        "colab": {
          "base_uri": "https://localhost:8080/"
        },
        "id": "j1N6UfNinG_R",
        "outputId": "93dea397-1429-4282-e7a5-8486b47376c7"
      },
      "execution_count": null,
      "outputs": [
        {
          "output_type": "stream",
          "name": "stdout",
          "text": [
            "Jump is a blue van worth $10000.00.\n"
          ]
        }
      ]
    },
    {
      "cell_type": "markdown",
      "source": [
        "**Dictionaries**\n",
        "\n",
        "A dictionary is a data type similar to arrays, but works with keys and values instead of indexes. Each value stored in a dictionary can be accessed using a key, which is any type of object (a string, a number, a list, etc.) instead of using its index to address it.\n",
        "\n",
        "For example, a database of phone numbers could be stored using a dictionary like this:"
      ],
      "metadata": {
        "id": "zrggizb-oKvA"
      }
    },
    {
      "cell_type": "code",
      "source": [
        "phonebook = {}\n",
        "\n",
        "phonebook[\"JOhn\"] = 100\n",
        "phonebook[\"Jack\"] = 101\n",
        "phonebook[\"Jill\"] = 102\n",
        "\n",
        "print(phonebook)"
      ],
      "metadata": {
        "colab": {
          "base_uri": "https://localhost:8080/"
        },
        "id": "rNAZ2T7NnTOh",
        "outputId": "00ee1ee9-e7da-416b-c00e-4686c6328db4"
      },
      "execution_count": null,
      "outputs": [
        {
          "output_type": "stream",
          "name": "stdout",
          "text": [
            "{'JOhn': 100, 'Jack': 101, 'Jill': 102}\n"
          ]
        }
      ]
    },
    {
      "cell_type": "markdown",
      "source": [
        "Alternatively, a dictionary can be initialized with the same values in the following notation:"
      ],
      "metadata": {
        "id": "9rEj6R2To_7Q"
      }
    },
    {
      "cell_type": "code",
      "source": [
        "phonebook = {\n",
        "    \"John\" : 100,\n",
        "    \"Jack\" : 101,\n",
        "    \"Jill\" : 102\n",
        "}\n",
        "print(phonebook)"
      ],
      "metadata": {
        "colab": {
          "base_uri": "https://localhost:8080/"
        },
        "id": "DSbbw1v4onQo",
        "outputId": "39662040-e9bf-4f04-a4da-399d29110c89"
      },
      "execution_count": null,
      "outputs": [
        {
          "output_type": "stream",
          "name": "stdout",
          "text": [
            "{'John': 100, 'Jack': 101, 'Jill': 102}\n"
          ]
        }
      ]
    },
    {
      "cell_type": "markdown",
      "source": [
        "Iterating over dictionaries: Dictionaries can be iterated over, just like a list. However, a dictionary, unlike a list, does not keep the order of the values stored in it. To iterate over key value pairs, use the following syntax:"
      ],
      "metadata": {
        "id": "zBPAWcabpaBG"
      }
    },
    {
      "cell_type": "code",
      "source": [
        "phonebook = {\"John\" : 100, \"Jack\" : 101, \"Jill\" : 102}\n",
        "\n",
        "for name, number in phonebook.items():\n",
        "  print(\"Phone number of %s is %d\" % (name, number))"
      ],
      "metadata": {
        "colab": {
          "base_uri": "https://localhost:8080/"
        },
        "id": "2JTIU8D2pNmI",
        "outputId": "f332b7e5-3bbb-43c2-de54-fa26936e82e5"
      },
      "execution_count": null,
      "outputs": [
        {
          "output_type": "stream",
          "name": "stdout",
          "text": [
            "Phone number of John is 100\n",
            "Phone number of Jack is 101\n",
            "Phone number of Jill is 102\n"
          ]
        }
      ]
    },
    {
      "cell_type": "markdown",
      "source": [
        "Removing a value: To remove a specified index, use either one of the following notations:"
      ],
      "metadata": {
        "id": "DL_RSkVMrGV6"
      }
    },
    {
      "cell_type": "code",
      "source": [
        "phonebook = {\n",
        "   \"John\" : 938477566,\n",
        "   \"Jack\" : 938377264,\n",
        "   \"Jill\" : 947662781\n",
        "}\n",
        "del phonebook[\"John\"]\n",
        "print(phonebook)"
      ],
      "metadata": {
        "colab": {
          "base_uri": "https://localhost:8080/"
        },
        "id": "Tsu7BV8ZrKjw",
        "outputId": "e5e2d86d-9a1a-454b-efdc-e4ac55b0180b"
      },
      "execution_count": null,
      "outputs": [
        {
          "output_type": "stream",
          "name": "stdout",
          "text": [
            "{'Jack': 938377264, 'Jill': 947662781}\n"
          ]
        }
      ]
    },
    {
      "cell_type": "code",
      "source": [
        "# or we can pop it out\n",
        "phonebook = {\n",
        "   \"John\" : 938477566,\n",
        "   \"Jack\" : 938377264,\n",
        "   \"Jill\" : 947662781\n",
        "}\n",
        "phonebook.pop(\"John\")\n",
        "print(phonebook)"
      ],
      "metadata": {
        "colab": {
          "base_uri": "https://localhost:8080/"
        },
        "id": "NF29LyeCrPTi",
        "outputId": "2a6fd2f2-8f06-4a2f-926a-ff59ff4ada05"
      },
      "execution_count": null,
      "outputs": [
        {
          "output_type": "stream",
          "name": "stdout",
          "text": [
            "{'Jack': 938377264, 'Jill': 947662781}\n"
          ]
        }
      ]
    },
    {
      "cell_type": "markdown",
      "source": [
        "**Exercise**: Add \"Jake\" to the phonebook with the phone number 103, and remove Jill from the phonebook."
      ],
      "metadata": {
        "id": "EIrW4pO1rgkP"
      }
    },
    {
      "cell_type": "code",
      "source": [
        "phonebook = {\n",
        "    \"John\" : 100,\n",
        "   \"Jack\" : 101,\n",
        "   \"Jill\" : 102   \n",
        "}\n",
        "print(phonebook)"
      ],
      "metadata": {
        "colab": {
          "base_uri": "https://localhost:8080/"
        },
        "id": "LR09QeEkrTq_",
        "outputId": "8b820379-7c2a-49d6-a148-720b32fe35ef"
      },
      "execution_count": null,
      "outputs": [
        {
          "output_type": "stream",
          "name": "stdout",
          "text": [
            "{'John': 100, 'Jack': 101, 'Jill': 102}\n"
          ]
        }
      ]
    },
    {
      "cell_type": "code",
      "source": [
        "del phonebook[\"Jill\"]\n",
        "print(phonebook)"
      ],
      "metadata": {
        "colab": {
          "base_uri": "https://localhost:8080/"
        },
        "id": "xr6JgpZyr36t",
        "outputId": "40d2e693-4ba0-437d-b424-e77b3f45fe0e"
      },
      "execution_count": null,
      "outputs": [
        {
          "output_type": "stream",
          "name": "stdout",
          "text": [
            "{'John': 100, 'Jack': 101, 'Jake': 103}\n"
          ]
        }
      ]
    },
    {
      "cell_type": "code",
      "source": [
        "phonebook[\"Jake\"] = 103\n",
        "print(phonebook)"
      ],
      "metadata": {
        "colab": {
          "base_uri": "https://localhost:8080/"
        },
        "id": "6xyXJAbNr-VN",
        "outputId": "fd66e5c8-2997-452d-d71a-4e5e1e677e60"
      },
      "execution_count": null,
      "outputs": [
        {
          "output_type": "stream",
          "name": "stdout",
          "text": [
            "{'John': 100, 'Jack': 101, 'Jake': 103}\n"
          ]
        }
      ]
    },
    {
      "cell_type": "code",
      "source": [
        "#testing code\n",
        "if \"Jake\" in phonebook:\n",
        "  print(\"Jake is listed in the phonebook.\")\n",
        "\n",
        "if \"Jill\" not in phonebook:\n",
        "  print(\"Jill is not listed in the phonebook.\")"
      ],
      "metadata": {
        "colab": {
          "base_uri": "https://localhost:8080/"
        },
        "id": "EdYGHYKcsZRF",
        "outputId": "a99270cd-c8e7-4e2c-9d0a-ec806db72ea1"
      },
      "execution_count": null,
      "outputs": [
        {
          "output_type": "stream",
          "name": "stdout",
          "text": [
            "Jake is listed in the phonebook.\n",
            "Jill is not listed in the phonebook.\n"
          ]
        }
      ]
    },
    {
      "cell_type": "markdown",
      "source": [
        "**Modules and Packages**\n",
        "\n",
        "In programming, a module is a piece of software that has a specific functionality. For example, when building a ping pong game, one module may be responsible for the game logic, and another module draws the game on the screen. Each module consists of a different file, which may be edited separately."
      ],
      "metadata": {
        "id": "dnjalRlZZwLw"
      }
    },
    {
      "cell_type": "markdown",
      "source": [
        "Writing modules: Modules in Python are just Python files with a .py extension. The name of the module is the same as the file name. A Python module can have a set of functions, classes, or variables defined and implemented. The example above includes two files:\n",
        "\n",
        "mygame/\n",
        "\n",
        "\n",
        "\n",
        "    mygame/game.py\n",
        "\n",
        "    mygame/draw.py\n",
        "\n",
        "The Python script game.py implements the game. It uses the function draw_game from the file draw.py, or in other words, the draw module that implements the logic for drawing the game on the screen.\n",
        "\n",
        "Modules are imported from other modules using the import command. In this example, the game.py script may look something like this:\n",
        "\n",
        "Example missing..."
      ],
      "metadata": {
        "id": "JhJ6_jHAaIFr"
      }
    },
    {
      "cell_type": "markdown",
      "source": [
        "**NUMPY ARRAYS**\n",
        "\n",
        "Numpy arrays are great alternatives to Python Lists. Some of the key advantages of Numpy arrays are that they are fast, easy to work with, and give users the opportunity to perform calculations across entire arrays.\n",
        "\n",
        "In the following example, you will first create two Python lists. Then, you will import the numpy package and create numpy arrays out of the newly created lists."
      ],
      "metadata": {
        "id": "a75EDZZjnama"
      }
    },
    {
      "cell_type": "code",
      "source": [
        "#create 2 new lists height and weight\n",
        "height = [1.87, 1.87, 1.82, 1.91, 1.90, 1.85]\n",
        "weight = [81.65, 97.52, 95.25, 92.98, 86.18, 88.45]\n",
        "\n",
        "#import the numpy package as np\n",
        "import numpy as np\n",
        "\n",
        "#create 2 numpy arrays from height and weight\n",
        "np_height = np.array(height)\n",
        "np_weight = np.array(weight)\n"
      ],
      "metadata": {
        "id": "6JOIkP_6beKX"
      },
      "execution_count": null,
      "outputs": []
    },
    {
      "cell_type": "code",
      "source": [
        "print(np_height)"
      ],
      "metadata": {
        "colab": {
          "base_uri": "https://localhost:8080/"
        },
        "id": "JaO4d4zOvlKg",
        "outputId": "f9825753-f864-42a3-cfd8-881e24b69347"
      },
      "execution_count": null,
      "outputs": [
        {
          "output_type": "stream",
          "name": "stdout",
          "text": [
            "[1.87 1.87 1.82 1.91 1.9  1.85]\n"
          ]
        }
      ]
    },
    {
      "cell_type": "code",
      "source": [
        "print(np_weight)"
      ],
      "metadata": {
        "colab": {
          "base_uri": "https://localhost:8080/"
        },
        "id": "1K5Ccl2cvr9a",
        "outputId": "87ee0d78-ee58-4c32-c84e-ba2d64dc85a1"
      },
      "execution_count": null,
      "outputs": [
        {
          "output_type": "stream",
          "name": "stdout",
          "text": [
            "[81.65 97.52 95.25 92.98 86.18 88.45]\n"
          ]
        }
      ]
    },
    {
      "cell_type": "code",
      "source": [
        "print(type(np_height))"
      ],
      "metadata": {
        "colab": {
          "base_uri": "https://localhost:8080/"
        },
        "id": "37e0RbervwIx",
        "outputId": "335e2a0c-354e-40a6-be1f-796d2aa176fe"
      },
      "execution_count": null,
      "outputs": [
        {
          "output_type": "stream",
          "name": "stdout",
          "text": [
            "<class 'numpy.ndarray'>\n"
          ]
        }
      ]
    },
    {
      "cell_type": "markdown",
      "source": [
        "Element-wise calculations: Now we can perform element-wise calculations on height and weight. For example, you could take all 6 of the height and weight observations above, and calculate the BMI for each observation with a single equation. These operations are very fast and computationally efficient. They are particularly helpful when you have 1000s of observations in your data."
      ],
      "metadata": {
        "id": "YSylaCKlv57D"
      }
    },
    {
      "cell_type": "code",
      "source": [
        "#calculate bmi\n",
        "bmi = np_weight / np_height ** 2\n",
        "\n",
        "#print the result\n",
        "print(bmi)"
      ],
      "metadata": {
        "colab": {
          "base_uri": "https://localhost:8080/"
        },
        "id": "159EgCuSv15y",
        "outputId": "1cf55bef-c104-4102-ab6c-5dad721c2b94"
      },
      "execution_count": null,
      "outputs": [
        {
          "output_type": "stream",
          "name": "stdout",
          "text": [
            "[23.34925219 27.88755755 28.75558507 25.48723993 23.87257618 25.84368152]\n"
          ]
        }
      ]
    },
    {
      "cell_type": "markdown",
      "source": [
        "Subsetting: Another great feature of Numpy arrays is the ability to subset. For instance, if you wanted to know which observations in our BMI array are above 23, we could quickly subset it to find out.\n",
        "\n"
      ],
      "metadata": {
        "id": "VsRc5NBDwgHZ"
      }
    },
    {
      "cell_type": "code",
      "source": [
        "#For a boolean response\n",
        "\n",
        "bmi > 23\n",
        "\n",
        "#print only those observations above 23\n",
        "\n",
        "bmi[bmi > 23]"
      ],
      "metadata": {
        "colab": {
          "base_uri": "https://localhost:8080/"
        },
        "id": "Op7dqorCwNff",
        "outputId": "c8bcef4f-2145-4ef2-b133-85fc781bc6d1"
      },
      "execution_count": null,
      "outputs": [
        {
          "output_type": "execute_result",
          "data": {
            "text/plain": [
              "array([23.34925219, 27.88755755, 28.75558507, 25.48723993, 23.87257618,\n",
              "       25.84368152])"
            ]
          },
          "metadata": {},
          "execution_count": 7
        }
      ]
    },
    {
      "cell_type": "code",
      "source": [
        "bmi[ bmi > 26]"
      ],
      "metadata": {
        "colab": {
          "base_uri": "https://localhost:8080/"
        },
        "id": "zpzKRhRswxaV",
        "outputId": "81a5bd61-97d5-4124-d334-8a14c31efc2a"
      },
      "execution_count": null,
      "outputs": [
        {
          "output_type": "execute_result",
          "data": {
            "text/plain": [
              "array([27.88755755, 28.75558507])"
            ]
          },
          "metadata": {},
          "execution_count": 9
        }
      ]
    },
    {
      "cell_type": "markdown",
      "source": [
        "Exercise: First, convert the list of weights from a list to a Numpy array. Then, convert all of the weights from kilograms to pounds. Use the scalar conversion of 2.2 lbs per kilogram to make your conversion. Lastly, print the resulting array of weights in pounds."
      ],
      "metadata": {
        "id": "sGtBYXuKw8Dh"
      }
    },
    {
      "cell_type": "code",
      "source": [
        "weight_kg = [81.65, 97.52, 95.25, 92.98, 86.18, 88.45]\n",
        "\n",
        "import numpy as np\n",
        "\n",
        "#create a numpy array np_weight_kg from weight_kg\n",
        "np_weight_kg = np.array(weight_kg)\n",
        "\n",
        "#create np_weights_lbs from np_weight_kgs\n",
        "np_weights_lbs = np_weight_kg * 2.2\n",
        "\n",
        "#print out np_weight_lbs\n",
        "print(np_weights_lbs)"
      ],
      "metadata": {
        "colab": {
          "base_uri": "https://localhost:8080/"
        },
        "id": "bSxQzE62w2kz",
        "outputId": "dafef604-2ea5-4609-87e9-bcaa9db23a6c"
      },
      "execution_count": null,
      "outputs": [
        {
          "output_type": "stream",
          "name": "stdout",
          "text": [
            "[179.63  214.544 209.55  204.556 189.596 194.59 ]\n"
          ]
        }
      ]
    },
    {
      "cell_type": "markdown",
      "source": [
        "**PANDAS BASICS**\n"
      ],
      "metadata": {
        "id": "_bMQQ25ay4G1"
      }
    },
    {
      "cell_type": "markdown",
      "source": [
        "Pandas DataFrames: Pandas is a high-level data manipulation tool developed by Wes McKinney. It is built on the Numpy package and its key data structure is called the DataFrame. DataFrames allow you to store and manipulate tabular data in rows of observations and columns of variables.\n",
        "\n",
        "There are several ways to create a DataFrame. One way way is to use a dictionary. For example:"
      ],
      "metadata": {
        "id": "rCXKGdf2y9W4"
      }
    },
    {
      "cell_type": "code",
      "source": [
        "dict = {\"country\": [\"Brazil\", \"Russia\", \"India\", \"China\", \"South Africa\"],\n",
        "        \"capital\": [\"Brasilia\", \"Moscow\", \"New Delhi\", \"Beijing\", \"Pretoria\"],\n",
        "        \"area\": [5.516, 17.10, 3.286, 9.597, 1.221],\n",
        "        \"population\": [200.4, 143.5, 1252, 1357, 52.98]}\n",
        "\n",
        "import pandas as pd\n",
        "brics = pd.DataFrame(dict)\n",
        "print(brics)"
      ],
      "metadata": {
        "colab": {
          "base_uri": "https://localhost:8080/"
        },
        "id": "TRaDgPI7xozt",
        "outputId": "9f145e41-a7a6-4f20-9b47-75fb5498c33b"
      },
      "execution_count": null,
      "outputs": [
        {
          "output_type": "stream",
          "name": "stdout",
          "text": [
            "        country    capital    area  population\n",
            "0        Brazil   Brasilia   5.516      200.40\n",
            "1        Russia     Moscow  17.100      143.50\n",
            "2         India  New Delhi   3.286     1252.00\n",
            "3         China    Beijing   9.597     1357.00\n",
            "4  South Africa   Pretoria   1.221       52.98\n"
          ]
        }
      ]
    },
    {
      "cell_type": "markdown",
      "source": [
        "As you can see with the new brics DataFrame, Pandas has assigned a key for each country as the numerical values 0 through 4. If you would like to have different index values, say, the two letter country code, you can do that easily as well."
      ],
      "metadata": {
        "id": "CbS6w5eG0FGP"
      }
    },
    {
      "cell_type": "code",
      "source": [
        "# Set the index for brics\n",
        "brics.index = [\"BR\", \"RU\", \"IN\", \"CH\", \"SA\"]\n",
        "\n",
        "# print out brics with new index values\n",
        "print(brics)"
      ],
      "metadata": {
        "colab": {
          "base_uri": "https://localhost:8080/"
        },
        "id": "4ICC0uRnz6Pi",
        "outputId": "d39f11a6-3ecb-4ede-cb12-10bd5ec1c5c6"
      },
      "execution_count": null,
      "outputs": [
        {
          "output_type": "stream",
          "name": "stdout",
          "text": [
            "         country    capital    area  population\n",
            "BR        Brazil   Brasilia   5.516      200.40\n",
            "RU        Russia     Moscow  17.100      143.50\n",
            "IN         India  New Delhi   3.286     1252.00\n",
            "CH         China    Beijing   9.597     1357.00\n",
            "SA  South Africa   Pretoria   1.221       52.98\n"
          ]
        }
      ]
    },
    {
      "cell_type": "markdown",
      "source": [
        "Another way to create a DataFrame is by importing a csv file using Pandas. Now, the csv cars.csv is stored and can be imported using pd.read_csv:"
      ],
      "metadata": {
        "id": "DY0PHX8R0kIj"
      }
    },
    {
      "cell_type": "code",
      "source": [
        "# Import pandas as pd\n",
        "import pandas as pd\n",
        "\n",
        "# Import the cars.csv data: cars\n",
        "cars = pd.read_csv('cars.csv') # keep cars.csv in the folder and then run \n",
        "\n",
        "# Print out cars\n",
        "print(cars)"
      ],
      "metadata": {
        "id": "Xdil6sPP0VjN"
      },
      "execution_count": null,
      "outputs": []
    },
    {
      "cell_type": "markdown",
      "source": [
        "Indexing DataFrames: There are several ways to index a Pandas DataFrame. One of the easiest ways to do this is by using square bracket notation.\n",
        "\n",
        "In the example below, you can use square brackets to select one column of the cars DataFrame. You can either use a single bracket or a double bracket. The single bracket will output a Pandas Series, while a double bracket will output a Pandas DataFrame."
      ],
      "metadata": {
        "id": "GBoCBrKa1Mfp"
      }
    },
    {
      "cell_type": "code",
      "source": [
        "# Import pandas and cars.csv\n",
        "import pandas as pd\n",
        "cars = pd.read_csv('cars.csv', index_col = 0)\n",
        "\n",
        "# Print out country column as Pandas Series\n",
        "print(cars['cars_per_cap'])\n",
        "\n",
        "# Print out country column as Pandas DataFrame\n",
        "print(cars[['cars_per_cap']])\n",
        "\n",
        "# Print out DataFrame with country and drives_right columns\n",
        "print(cars[['cars_per_cap', 'country']])"
      ],
      "metadata": {
        "id": "duyJrTCT0uAQ"
      },
      "execution_count": null,
      "outputs": []
    },
    {
      "cell_type": "markdown",
      "source": [
        "Square brackets can also be used to access observations (rows) from a DataFrame. For example:"
      ],
      "metadata": {
        "id": "TC0QfsPJ1jBR"
      }
    },
    {
      "cell_type": "code",
      "source": [
        "# Import cars data\n",
        "import pandas as pd\n",
        "cars = pd.read_csv('cars.csv', index_col = 0)\n",
        "\n",
        "# Print out first 4 observations\n",
        "print(cars[0:4])\n",
        "\n",
        "# Print out fifth and sixth observation\n",
        "print(cars[4:6])"
      ],
      "metadata": {
        "id": "8xNbm_ic1j_k"
      },
      "execution_count": null,
      "outputs": []
    }
  ]
}